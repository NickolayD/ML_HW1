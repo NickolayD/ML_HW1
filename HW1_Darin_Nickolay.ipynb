{
 "cells": [
  {
   "cell_type": "markdown",
   "metadata": {
    "id": "IsPer4g5FgRB"
   },
   "source": [
    "# Домашнее задание №1\n",
    "\n",
    "В этом домашнем задании вам предлагается обучить модель регрессии для предсказания стоимости автомобилей, а также реализовать веб-сервис для применения построенной модели на новых данных.\n",
    "\n",
    "> Оценка за домашку = min(ваш балл, 10)\n"
   ]
  },
  {
   "cell_type": "markdown",
   "metadata": {
    "id": "RBxaROjhnExd"
   },
   "source": [
    "Задания, <font color='#9933CC'>выделенные фиолетовым</font>, требуют от вас написания кода.\n",
    "\n",
    "А вопросы, <font color='#FF6600'>выделенные оранжевым</font>, текстового ответа.\n",
    "\n",
    "Оцениваются как код, так и ответы на вопросы. Если нет одного и/или другого, то часть баллов за соответствующее задание без колебаний снимается."
   ]
  },
  {
   "cell_type": "code",
   "execution_count": 1,
   "metadata": {
    "id": "bKXD33FOsnGd"
   },
   "outputs": [],
   "source": [
    "import pandas as pd\n",
    "import numpy as np\n",
    "import matplotlib.pyplot as plt\n",
    "import random\n",
    "import seaborn as sns\n",
    "\n",
    "random.seed(42)\n",
    "np.random.seed(42)"
   ]
  },
  {
   "cell_type": "markdown",
   "metadata": {
    "id": "GAzbEw1ctU4f"
   },
   "source": [
    "Ниже ответьте на вопрос <font color='#FF6600'>\n",
    "\"Для чего фиксируем сиды в домашках?\"</font>"
   ]
  },
  {
   "cell_type": "markdown",
   "metadata": {
    "colab": {
     "base_uri": "https://localhost:8080/"
    },
    "id": "lHsDF04utgDC",
    "outputId": "8b63192b-babe-492b-c634-6e7b0bc9b901"
   },
   "source": [
    "Сиды фиксируем для воспроизводимости данных. Чтобы проверяющие и/или другие разработчики могли получить аналогичные результаты при запуске кода на своих устройствах."
   ]
  },
  {
   "cell_type": "markdown",
   "metadata": {
    "id": "ykzSVgN7q-xZ"
   },
   "source": [
    "# Часть 1 (2.5 балла + 0.75) | EDA"
   ]
  },
  {
   "cell_type": "markdown",
   "metadata": {
    "id": "e-4bM9CKAtCj"
   },
   "source": [
    "## Простейший EDA и обработка признаков (1.5 балла + 0.25)"
   ]
  },
  {
   "cell_type": "code",
   "execution_count": 2,
   "metadata": {
    "id": "FniH6eCGFSi_"
   },
   "outputs": [
    {
     "name": "stdout",
     "output_type": "stream",
     "text": [
      "Train data shape: (6999, 13)\n",
      "Test data shape:  (1000, 13)\n"
     ]
    }
   ],
   "source": [
    "df_train = pd.read_csv('https://raw.githubusercontent.com/hse-mlds/ml/main/hometasks/HT1/cars_train.csv')\n",
    "df_test = pd.read_csv('https://raw.githubusercontent.com/hse-mlds/ml/main/hometasks/HT1/cars_test.csv')\n",
    "\n",
    "print(\"Train data shape:\", df_train.shape)\n",
    "print(\"Test data shape: \", df_test.shape)"
   ]
  },
  {
   "cell_type": "markdown",
   "metadata": {
    "id": "spIXQ6zwxT9I"
   },
   "source": [
    "(0.15 балла) <font color='#9933CC'>Отобразите 10 **случайных** строк тренировочного датасета</font>"
   ]
  },
  {
   "cell_type": "code",
   "execution_count": 4,
   "metadata": {
    "id": "Zesb2SG5xf_q"
   },
   "outputs": [
    {
     "data": {
      "text/html": [
       "<div>\n",
       "<style scoped>\n",
       "    .dataframe tbody tr th:only-of-type {\n",
       "        vertical-align: middle;\n",
       "    }\n",
       "\n",
       "    .dataframe tbody tr th {\n",
       "        vertical-align: top;\n",
       "    }\n",
       "\n",
       "    .dataframe thead th {\n",
       "        text-align: right;\n",
       "    }\n",
       "</style>\n",
       "<table border=\"1\" class=\"dataframe\">\n",
       "  <thead>\n",
       "    <tr style=\"text-align: right;\">\n",
       "      <th></th>\n",
       "      <th>name</th>\n",
       "      <th>year</th>\n",
       "      <th>selling_price</th>\n",
       "      <th>km_driven</th>\n",
       "      <th>fuel</th>\n",
       "      <th>seller_type</th>\n",
       "      <th>transmission</th>\n",
       "      <th>owner</th>\n",
       "      <th>mileage</th>\n",
       "      <th>engine</th>\n",
       "      <th>max_power</th>\n",
       "      <th>torque</th>\n",
       "      <th>seats</th>\n",
       "    </tr>\n",
       "  </thead>\n",
       "  <tbody>\n",
       "    <tr>\n",
       "      <th>6565</th>\n",
       "      <td>Renault KWID Climber 1.0 MT BSIV</td>\n",
       "      <td>2019</td>\n",
       "      <td>300000</td>\n",
       "      <td>35000</td>\n",
       "      <td>Petrol</td>\n",
       "      <td>Individual</td>\n",
       "      <td>Manual</td>\n",
       "      <td>First Owner</td>\n",
       "      <td>23.01 kmpl</td>\n",
       "      <td>999 CC</td>\n",
       "      <td>67 bhp</td>\n",
       "      <td>91Nm@ 4250rpm</td>\n",
       "      <td>5.0</td>\n",
       "    </tr>\n",
       "    <tr>\n",
       "      <th>2943</th>\n",
       "      <td>Maruti Wagon R LXI</td>\n",
       "      <td>2013</td>\n",
       "      <td>225000</td>\n",
       "      <td>58343</td>\n",
       "      <td>Petrol</td>\n",
       "      <td>Trustmark Dealer</td>\n",
       "      <td>Manual</td>\n",
       "      <td>First Owner</td>\n",
       "      <td>21.79 kmpl</td>\n",
       "      <td>998 CC</td>\n",
       "      <td>67.05 bhp</td>\n",
       "      <td>90Nm@ 3500rpm</td>\n",
       "      <td>5.0</td>\n",
       "    </tr>\n",
       "    <tr>\n",
       "      <th>2024</th>\n",
       "      <td>Hyundai i20 Asta 1.2</td>\n",
       "      <td>2013</td>\n",
       "      <td>360000</td>\n",
       "      <td>30000</td>\n",
       "      <td>Petrol</td>\n",
       "      <td>Individual</td>\n",
       "      <td>Manual</td>\n",
       "      <td>First Owner</td>\n",
       "      <td>18.5 kmpl</td>\n",
       "      <td>1197 CC</td>\n",
       "      <td>82.85 bhp</td>\n",
       "      <td>113.7Nm@ 4000rpm</td>\n",
       "      <td>5.0</td>\n",
       "    </tr>\n",
       "    <tr>\n",
       "      <th>263</th>\n",
       "      <td>Hyundai i20 1.2 Asta</td>\n",
       "      <td>2010</td>\n",
       "      <td>300000</td>\n",
       "      <td>70000</td>\n",
       "      <td>Petrol</td>\n",
       "      <td>Individual</td>\n",
       "      <td>Manual</td>\n",
       "      <td>First Owner</td>\n",
       "      <td>17.0 kmpl</td>\n",
       "      <td>1197 CC</td>\n",
       "      <td>80 bhp</td>\n",
       "      <td>11.4 kgm at 4,000 rpm</td>\n",
       "      <td>5.0</td>\n",
       "    </tr>\n",
       "    <tr>\n",
       "      <th>4586</th>\n",
       "      <td>Skoda Octavia L and K 1.9 TDI MT</td>\n",
       "      <td>2005</td>\n",
       "      <td>250000</td>\n",
       "      <td>120000</td>\n",
       "      <td>Diesel</td>\n",
       "      <td>Individual</td>\n",
       "      <td>Manual</td>\n",
       "      <td>Third Owner</td>\n",
       "      <td>16.4 kmpl</td>\n",
       "      <td>1896 CC</td>\n",
       "      <td>90 bhp</td>\n",
       "      <td>21.4@ 1,900(kgm@ rpm)</td>\n",
       "      <td>5.0</td>\n",
       "    </tr>\n",
       "    <tr>\n",
       "      <th>4479</th>\n",
       "      <td>Maruti Ciaz ZXi</td>\n",
       "      <td>2016</td>\n",
       "      <td>700000</td>\n",
       "      <td>20000</td>\n",
       "      <td>Petrol</td>\n",
       "      <td>Individual</td>\n",
       "      <td>Manual</td>\n",
       "      <td>First Owner</td>\n",
       "      <td>20.73 kmpl</td>\n",
       "      <td>1373 CC</td>\n",
       "      <td>91.1 bhp</td>\n",
       "      <td>130Nm@ 4000rpm</td>\n",
       "      <td>5.0</td>\n",
       "    </tr>\n",
       "    <tr>\n",
       "      <th>4881</th>\n",
       "      <td>Hyundai Grand i10 1.2 Kappa Magna BSIV</td>\n",
       "      <td>2017</td>\n",
       "      <td>445000</td>\n",
       "      <td>27000</td>\n",
       "      <td>Petrol</td>\n",
       "      <td>Individual</td>\n",
       "      <td>Manual</td>\n",
       "      <td>First Owner</td>\n",
       "      <td>18.9 kmpl</td>\n",
       "      <td>1197 CC</td>\n",
       "      <td>81.86 bhp</td>\n",
       "      <td>113.75nm@ 4000rpm</td>\n",
       "      <td>5.0</td>\n",
       "    </tr>\n",
       "    <tr>\n",
       "      <th>3583</th>\n",
       "      <td>Ford Ecosport 1.5 DV5 MT Trend</td>\n",
       "      <td>2016</td>\n",
       "      <td>515000</td>\n",
       "      <td>68609</td>\n",
       "      <td>Diesel</td>\n",
       "      <td>Dealer</td>\n",
       "      <td>Manual</td>\n",
       "      <td>First Owner</td>\n",
       "      <td>22.7 kmpl</td>\n",
       "      <td>1498 CC</td>\n",
       "      <td>89.84 bhp</td>\n",
       "      <td>204Nm@ 2000-2750rpm</td>\n",
       "      <td>5.0</td>\n",
       "    </tr>\n",
       "    <tr>\n",
       "      <th>6361</th>\n",
       "      <td>Hyundai Verna 1.4 VTVT</td>\n",
       "      <td>2014</td>\n",
       "      <td>500000</td>\n",
       "      <td>33400</td>\n",
       "      <td>Petrol</td>\n",
       "      <td>Individual</td>\n",
       "      <td>Manual</td>\n",
       "      <td>First Owner</td>\n",
       "      <td>17.43 kmpl</td>\n",
       "      <td>1396 CC</td>\n",
       "      <td>105.5 bhp</td>\n",
       "      <td>135.3Nm@ 5000rpm</td>\n",
       "      <td>5.0</td>\n",
       "    </tr>\n",
       "    <tr>\n",
       "      <th>4108</th>\n",
       "      <td>Hyundai i20 Era 1.2</td>\n",
       "      <td>2015</td>\n",
       "      <td>490000</td>\n",
       "      <td>45900</td>\n",
       "      <td>Petrol</td>\n",
       "      <td>Individual</td>\n",
       "      <td>Manual</td>\n",
       "      <td>Second Owner</td>\n",
       "      <td>18.6 kmpl</td>\n",
       "      <td>1197 CC</td>\n",
       "      <td>81.83 bhp</td>\n",
       "      <td>114.7Nm@ 4000rpm</td>\n",
       "      <td>5.0</td>\n",
       "    </tr>\n",
       "  </tbody>\n",
       "</table>\n",
       "</div>"
      ],
      "text/plain": [
       "                                        name  year  selling_price  km_driven  \\\n",
       "6565        Renault KWID Climber 1.0 MT BSIV  2019         300000      35000   \n",
       "2943                      Maruti Wagon R LXI  2013         225000      58343   \n",
       "2024                    Hyundai i20 Asta 1.2  2013         360000      30000   \n",
       "263                     Hyundai i20 1.2 Asta  2010         300000      70000   \n",
       "4586        Skoda Octavia L and K 1.9 TDI MT  2005         250000     120000   \n",
       "4479                         Maruti Ciaz ZXi  2016         700000      20000   \n",
       "4881  Hyundai Grand i10 1.2 Kappa Magna BSIV  2017         445000      27000   \n",
       "3583          Ford Ecosport 1.5 DV5 MT Trend  2016         515000      68609   \n",
       "6361                  Hyundai Verna 1.4 VTVT  2014         500000      33400   \n",
       "4108                     Hyundai i20 Era 1.2  2015         490000      45900   \n",
       "\n",
       "        fuel       seller_type transmission         owner     mileage  \\\n",
       "6565  Petrol        Individual       Manual   First Owner  23.01 kmpl   \n",
       "2943  Petrol  Trustmark Dealer       Manual   First Owner  21.79 kmpl   \n",
       "2024  Petrol        Individual       Manual   First Owner   18.5 kmpl   \n",
       "263   Petrol        Individual       Manual   First Owner   17.0 kmpl   \n",
       "4586  Diesel        Individual       Manual   Third Owner   16.4 kmpl   \n",
       "4479  Petrol        Individual       Manual   First Owner  20.73 kmpl   \n",
       "4881  Petrol        Individual       Manual   First Owner   18.9 kmpl   \n",
       "3583  Diesel            Dealer       Manual   First Owner   22.7 kmpl   \n",
       "6361  Petrol        Individual       Manual   First Owner  17.43 kmpl   \n",
       "4108  Petrol        Individual       Manual  Second Owner   18.6 kmpl   \n",
       "\n",
       "       engine  max_power                 torque  seats  \n",
       "6565   999 CC     67 bhp          91Nm@ 4250rpm    5.0  \n",
       "2943   998 CC  67.05 bhp          90Nm@ 3500rpm    5.0  \n",
       "2024  1197 CC  82.85 bhp       113.7Nm@ 4000rpm    5.0  \n",
       "263   1197 CC     80 bhp  11.4 kgm at 4,000 rpm    5.0  \n",
       "4586  1896 CC     90 bhp  21.4@ 1,900(kgm@ rpm)    5.0  \n",
       "4479  1373 CC   91.1 bhp         130Nm@ 4000rpm    5.0  \n",
       "4881  1197 CC  81.86 bhp      113.75nm@ 4000rpm    5.0  \n",
       "3583  1498 CC  89.84 bhp    204Nm@ 2000-2750rpm    5.0  \n",
       "6361  1396 CC  105.5 bhp       135.3Nm@ 5000rpm    5.0  \n",
       "4108  1197 CC  81.83 bhp       114.7Nm@ 4000rpm    5.0  "
      ]
     },
     "execution_count": 4,
     "metadata": {},
     "output_type": "execute_result"
    }
   ],
   "source": [
    "df_train.sample(10)"
   ]
  },
  {
   "cell_type": "markdown",
   "metadata": {
    "id": "c5UQKCGTxogp"
   },
   "source": [
    "(0.1 балла) <font color='#9933CC'>Отобразите первые 5 и последние 5 объектов тестового датасета</font>"
   ]
  },
  {
   "cell_type": "code",
   "execution_count": 5,
   "metadata": {
    "id": "-MueJLE4rO1g"
   },
   "outputs": [
    {
     "data": {
      "text/html": [
       "<div>\n",
       "<style scoped>\n",
       "    .dataframe tbody tr th:only-of-type {\n",
       "        vertical-align: middle;\n",
       "    }\n",
       "\n",
       "    .dataframe tbody tr th {\n",
       "        vertical-align: top;\n",
       "    }\n",
       "\n",
       "    .dataframe thead th {\n",
       "        text-align: right;\n",
       "    }\n",
       "</style>\n",
       "<table border=\"1\" class=\"dataframe\">\n",
       "  <thead>\n",
       "    <tr style=\"text-align: right;\">\n",
       "      <th></th>\n",
       "      <th>name</th>\n",
       "      <th>year</th>\n",
       "      <th>selling_price</th>\n",
       "      <th>km_driven</th>\n",
       "      <th>fuel</th>\n",
       "      <th>seller_type</th>\n",
       "      <th>transmission</th>\n",
       "      <th>owner</th>\n",
       "      <th>mileage</th>\n",
       "      <th>engine</th>\n",
       "      <th>max_power</th>\n",
       "      <th>torque</th>\n",
       "      <th>seats</th>\n",
       "    </tr>\n",
       "  </thead>\n",
       "  <tbody>\n",
       "    <tr>\n",
       "      <th>0</th>\n",
       "      <td>Mahindra Xylo E4 BS IV</td>\n",
       "      <td>2010</td>\n",
       "      <td>229999</td>\n",
       "      <td>168000</td>\n",
       "      <td>Diesel</td>\n",
       "      <td>Individual</td>\n",
       "      <td>Manual</td>\n",
       "      <td>First Owner</td>\n",
       "      <td>14.0 kmpl</td>\n",
       "      <td>2498 CC</td>\n",
       "      <td>112 bhp</td>\n",
       "      <td>260 Nm at 1800-2200 rpm</td>\n",
       "      <td>7.0</td>\n",
       "    </tr>\n",
       "    <tr>\n",
       "      <th>1</th>\n",
       "      <td>Tata Nexon 1.5 Revotorq XE</td>\n",
       "      <td>2017</td>\n",
       "      <td>665000</td>\n",
       "      <td>25000</td>\n",
       "      <td>Diesel</td>\n",
       "      <td>Individual</td>\n",
       "      <td>Manual</td>\n",
       "      <td>First Owner</td>\n",
       "      <td>21.5 kmpl</td>\n",
       "      <td>1497 CC</td>\n",
       "      <td>108.5 bhp</td>\n",
       "      <td>260Nm@ 1500-2750rpm</td>\n",
       "      <td>5.0</td>\n",
       "    </tr>\n",
       "    <tr>\n",
       "      <th>2</th>\n",
       "      <td>Honda Civic 1.8 S AT</td>\n",
       "      <td>2007</td>\n",
       "      <td>175000</td>\n",
       "      <td>218463</td>\n",
       "      <td>Petrol</td>\n",
       "      <td>Individual</td>\n",
       "      <td>Automatic</td>\n",
       "      <td>First Owner</td>\n",
       "      <td>12.9 kmpl</td>\n",
       "      <td>1799 CC</td>\n",
       "      <td>130 bhp</td>\n",
       "      <td>172Nm@ 4300rpm</td>\n",
       "      <td>5.0</td>\n",
       "    </tr>\n",
       "    <tr>\n",
       "      <th>3</th>\n",
       "      <td>Honda City i DTEC VX</td>\n",
       "      <td>2015</td>\n",
       "      <td>635000</td>\n",
       "      <td>173000</td>\n",
       "      <td>Diesel</td>\n",
       "      <td>Individual</td>\n",
       "      <td>Manual</td>\n",
       "      <td>First Owner</td>\n",
       "      <td>25.1 kmpl</td>\n",
       "      <td>1498 CC</td>\n",
       "      <td>98.6 bhp</td>\n",
       "      <td>200Nm@ 1750rpm</td>\n",
       "      <td>5.0</td>\n",
       "    </tr>\n",
       "    <tr>\n",
       "      <th>4</th>\n",
       "      <td>Tata Indica Vista Aura 1.2 Safire BSIV</td>\n",
       "      <td>2011</td>\n",
       "      <td>130000</td>\n",
       "      <td>70000</td>\n",
       "      <td>Petrol</td>\n",
       "      <td>Individual</td>\n",
       "      <td>Manual</td>\n",
       "      <td>Second Owner</td>\n",
       "      <td>16.5 kmpl</td>\n",
       "      <td>1172 CC</td>\n",
       "      <td>65 bhp</td>\n",
       "      <td>96  Nm at 3000  rpm</td>\n",
       "      <td>5.0</td>\n",
       "    </tr>\n",
       "  </tbody>\n",
       "</table>\n",
       "</div>"
      ],
      "text/plain": [
       "                                     name  year  selling_price  km_driven  \\\n",
       "0                  Mahindra Xylo E4 BS IV  2010         229999     168000   \n",
       "1              Tata Nexon 1.5 Revotorq XE  2017         665000      25000   \n",
       "2                    Honda Civic 1.8 S AT  2007         175000     218463   \n",
       "3                    Honda City i DTEC VX  2015         635000     173000   \n",
       "4  Tata Indica Vista Aura 1.2 Safire BSIV  2011         130000      70000   \n",
       "\n",
       "     fuel seller_type transmission         owner    mileage   engine  \\\n",
       "0  Diesel  Individual       Manual   First Owner  14.0 kmpl  2498 CC   \n",
       "1  Diesel  Individual       Manual   First Owner  21.5 kmpl  1497 CC   \n",
       "2  Petrol  Individual    Automatic   First Owner  12.9 kmpl  1799 CC   \n",
       "3  Diesel  Individual       Manual   First Owner  25.1 kmpl  1498 CC   \n",
       "4  Petrol  Individual       Manual  Second Owner  16.5 kmpl  1172 CC   \n",
       "\n",
       "   max_power                   torque  seats  \n",
       "0    112 bhp  260 Nm at 1800-2200 rpm    7.0  \n",
       "1  108.5 bhp      260Nm@ 1500-2750rpm    5.0  \n",
       "2    130 bhp           172Nm@ 4300rpm    5.0  \n",
       "3   98.6 bhp           200Nm@ 1750rpm    5.0  \n",
       "4     65 bhp     96  Nm at 3000  rpm     5.0  "
      ]
     },
     "execution_count": 5,
     "metadata": {},
     "output_type": "execute_result"
    }
   ],
   "source": [
    "df_test.head(5)"
   ]
  },
  {
   "cell_type": "code",
   "execution_count": 6,
   "metadata": {},
   "outputs": [
    {
     "data": {
      "text/html": [
       "<div>\n",
       "<style scoped>\n",
       "    .dataframe tbody tr th:only-of-type {\n",
       "        vertical-align: middle;\n",
       "    }\n",
       "\n",
       "    .dataframe tbody tr th {\n",
       "        vertical-align: top;\n",
       "    }\n",
       "\n",
       "    .dataframe thead th {\n",
       "        text-align: right;\n",
       "    }\n",
       "</style>\n",
       "<table border=\"1\" class=\"dataframe\">\n",
       "  <thead>\n",
       "    <tr style=\"text-align: right;\">\n",
       "      <th></th>\n",
       "      <th>name</th>\n",
       "      <th>year</th>\n",
       "      <th>selling_price</th>\n",
       "      <th>km_driven</th>\n",
       "      <th>fuel</th>\n",
       "      <th>seller_type</th>\n",
       "      <th>transmission</th>\n",
       "      <th>owner</th>\n",
       "      <th>mileage</th>\n",
       "      <th>engine</th>\n",
       "      <th>max_power</th>\n",
       "      <th>torque</th>\n",
       "      <th>seats</th>\n",
       "    </tr>\n",
       "  </thead>\n",
       "  <tbody>\n",
       "    <tr>\n",
       "      <th>995</th>\n",
       "      <td>Hyundai i10 Magna 1.1L</td>\n",
       "      <td>2008</td>\n",
       "      <td>250000</td>\n",
       "      <td>100000</td>\n",
       "      <td>Petrol</td>\n",
       "      <td>Individual</td>\n",
       "      <td>Manual</td>\n",
       "      <td>Second Owner</td>\n",
       "      <td>19.81 kmpl</td>\n",
       "      <td>1086 CC</td>\n",
       "      <td>68.05 bhp</td>\n",
       "      <td>99.04Nm@ 4500rpm</td>\n",
       "      <td>5.0</td>\n",
       "    </tr>\n",
       "    <tr>\n",
       "      <th>996</th>\n",
       "      <td>Hyundai i20 2015-2017 Sportz 1.2</td>\n",
       "      <td>2017</td>\n",
       "      <td>440000</td>\n",
       "      <td>50000</td>\n",
       "      <td>Petrol</td>\n",
       "      <td>Individual</td>\n",
       "      <td>Manual</td>\n",
       "      <td>Second Owner</td>\n",
       "      <td>18.6 kmpl</td>\n",
       "      <td>1197 CC</td>\n",
       "      <td>81.83 bhp</td>\n",
       "      <td>114.7Nm@ 4000rpm</td>\n",
       "      <td>5.0</td>\n",
       "    </tr>\n",
       "    <tr>\n",
       "      <th>997</th>\n",
       "      <td>Hyundai i20 Era Diesel</td>\n",
       "      <td>2009</td>\n",
       "      <td>340000</td>\n",
       "      <td>40000</td>\n",
       "      <td>Diesel</td>\n",
       "      <td>Individual</td>\n",
       "      <td>Manual</td>\n",
       "      <td>First Owner</td>\n",
       "      <td>23.0 kmpl</td>\n",
       "      <td>1396 CC</td>\n",
       "      <td>90 bhp</td>\n",
       "      <td>22.4 kgm at 1750-2750rpm</td>\n",
       "      <td>5.0</td>\n",
       "    </tr>\n",
       "    <tr>\n",
       "      <th>998</th>\n",
       "      <td>Hyundai i10 Asta</td>\n",
       "      <td>2012</td>\n",
       "      <td>350000</td>\n",
       "      <td>25000</td>\n",
       "      <td>Petrol</td>\n",
       "      <td>Individual</td>\n",
       "      <td>Manual</td>\n",
       "      <td>First Owner</td>\n",
       "      <td>20.36 kmpl</td>\n",
       "      <td>1197 CC</td>\n",
       "      <td>78.9 bhp</td>\n",
       "      <td>111.8Nm@ 4000rpm</td>\n",
       "      <td>5.0</td>\n",
       "    </tr>\n",
       "    <tr>\n",
       "      <th>999</th>\n",
       "      <td>Honda City i DTec SV</td>\n",
       "      <td>2016</td>\n",
       "      <td>700000</td>\n",
       "      <td>110000</td>\n",
       "      <td>Diesel</td>\n",
       "      <td>Individual</td>\n",
       "      <td>Manual</td>\n",
       "      <td>First Owner</td>\n",
       "      <td>26.0 kmpl</td>\n",
       "      <td>1498 CC</td>\n",
       "      <td>98.6 bhp</td>\n",
       "      <td>200Nm@ 1750rpm</td>\n",
       "      <td>5.0</td>\n",
       "    </tr>\n",
       "  </tbody>\n",
       "</table>\n",
       "</div>"
      ],
      "text/plain": [
       "                                 name  year  selling_price  km_driven    fuel  \\\n",
       "995            Hyundai i10 Magna 1.1L  2008         250000     100000  Petrol   \n",
       "996  Hyundai i20 2015-2017 Sportz 1.2  2017         440000      50000  Petrol   \n",
       "997            Hyundai i20 Era Diesel  2009         340000      40000  Diesel   \n",
       "998                  Hyundai i10 Asta  2012         350000      25000  Petrol   \n",
       "999              Honda City i DTec SV  2016         700000     110000  Diesel   \n",
       "\n",
       "    seller_type transmission         owner     mileage   engine  max_power  \\\n",
       "995  Individual       Manual  Second Owner  19.81 kmpl  1086 CC  68.05 bhp   \n",
       "996  Individual       Manual  Second Owner   18.6 kmpl  1197 CC  81.83 bhp   \n",
       "997  Individual       Manual   First Owner   23.0 kmpl  1396 CC     90 bhp   \n",
       "998  Individual       Manual   First Owner  20.36 kmpl  1197 CC   78.9 bhp   \n",
       "999  Individual       Manual   First Owner   26.0 kmpl  1498 CC   98.6 bhp   \n",
       "\n",
       "                       torque  seats  \n",
       "995          99.04Nm@ 4500rpm    5.0  \n",
       "996          114.7Nm@ 4000rpm    5.0  \n",
       "997  22.4 kgm at 1750-2750rpm    5.0  \n",
       "998          111.8Nm@ 4000rpm    5.0  \n",
       "999            200Nm@ 1750rpm    5.0  "
      ]
     },
     "execution_count": 6,
     "metadata": {},
     "output_type": "execute_result"
    }
   ],
   "source": [
    "df_test.tail(5)"
   ]
  },
  {
   "cell_type": "markdown",
   "metadata": {
    "id": "6fAcrLkBygwE"
   },
   "source": [
    "(0.1 балла) <font color='#9933CC'>Посчитайте основные статистики как по числовым, так и по категориальным столбцам для трейна и теста</font>. \n",
    "> Подсказка: ``.describe()`` с нужным(и) аргументом(-ами)\n",
    "\n"
   ]
  },
  {
   "cell_type": "markdown",
   "metadata": {},
   "source": [
    "По умолчанию, метод describe() обработает только числовые столбцы. Для того, чтобы обработать категориальные столбцы, нужно вызвать метод describe() с аргументом include='object'. Для того, чтобы обработать сразу и числовые, и категориальные столбцы, нужно параметру include присвоить значение 'all'."
   ]
  },
  {
   "cell_type": "code",
   "execution_count": 16,
   "metadata": {
    "id": "eaiIQCvMrPUb"
   },
   "outputs": [
    {
     "data": {
      "text/html": [
       "<div>\n",
       "<style scoped>\n",
       "    .dataframe tbody tr th:only-of-type {\n",
       "        vertical-align: middle;\n",
       "    }\n",
       "\n",
       "    .dataframe tbody tr th {\n",
       "        vertical-align: top;\n",
       "    }\n",
       "\n",
       "    .dataframe thead th {\n",
       "        text-align: right;\n",
       "    }\n",
       "</style>\n",
       "<table border=\"1\" class=\"dataframe\">\n",
       "  <thead>\n",
       "    <tr style=\"text-align: right;\">\n",
       "      <th></th>\n",
       "      <th>name</th>\n",
       "      <th>year</th>\n",
       "      <th>selling_price</th>\n",
       "      <th>km_driven</th>\n",
       "      <th>fuel</th>\n",
       "      <th>seller_type</th>\n",
       "      <th>transmission</th>\n",
       "      <th>owner</th>\n",
       "      <th>mileage</th>\n",
       "      <th>engine</th>\n",
       "      <th>max_power</th>\n",
       "      <th>torque</th>\n",
       "      <th>seats</th>\n",
       "    </tr>\n",
       "  </thead>\n",
       "  <tbody>\n",
       "    <tr>\n",
       "      <th>count</th>\n",
       "      <td>6999</td>\n",
       "      <td>6999.000000</td>\n",
       "      <td>6.999000e+03</td>\n",
       "      <td>6.999000e+03</td>\n",
       "      <td>6999</td>\n",
       "      <td>6999</td>\n",
       "      <td>6999</td>\n",
       "      <td>6999</td>\n",
       "      <td>6797</td>\n",
       "      <td>6797</td>\n",
       "      <td>6803</td>\n",
       "      <td>6796</td>\n",
       "      <td>6797.000000</td>\n",
       "    </tr>\n",
       "    <tr>\n",
       "      <th>unique</th>\n",
       "      <td>1924</td>\n",
       "      <td>NaN</td>\n",
       "      <td>NaN</td>\n",
       "      <td>NaN</td>\n",
       "      <td>4</td>\n",
       "      <td>3</td>\n",
       "      <td>2</td>\n",
       "      <td>5</td>\n",
       "      <td>386</td>\n",
       "      <td>120</td>\n",
       "      <td>316</td>\n",
       "      <td>419</td>\n",
       "      <td>NaN</td>\n",
       "    </tr>\n",
       "    <tr>\n",
       "      <th>top</th>\n",
       "      <td>Maruti Swift Dzire VDI</td>\n",
       "      <td>NaN</td>\n",
       "      <td>NaN</td>\n",
       "      <td>NaN</td>\n",
       "      <td>Diesel</td>\n",
       "      <td>Individual</td>\n",
       "      <td>Manual</td>\n",
       "      <td>First Owner</td>\n",
       "      <td>18.9 kmpl</td>\n",
       "      <td>1248 CC</td>\n",
       "      <td>74 bhp</td>\n",
       "      <td>190Nm@ 2000rpm</td>\n",
       "      <td>NaN</td>\n",
       "    </tr>\n",
       "    <tr>\n",
       "      <th>freq</th>\n",
       "      <td>116</td>\n",
       "      <td>NaN</td>\n",
       "      <td>NaN</td>\n",
       "      <td>NaN</td>\n",
       "      <td>3793</td>\n",
       "      <td>5826</td>\n",
       "      <td>6095</td>\n",
       "      <td>4587</td>\n",
       "      <td>197</td>\n",
       "      <td>885</td>\n",
       "      <td>330</td>\n",
       "      <td>468</td>\n",
       "      <td>NaN</td>\n",
       "    </tr>\n",
       "    <tr>\n",
       "      <th>mean</th>\n",
       "      <td>NaN</td>\n",
       "      <td>2013.818403</td>\n",
       "      <td>6.395152e+05</td>\n",
       "      <td>6.958462e+04</td>\n",
       "      <td>NaN</td>\n",
       "      <td>NaN</td>\n",
       "      <td>NaN</td>\n",
       "      <td>NaN</td>\n",
       "      <td>NaN</td>\n",
       "      <td>NaN</td>\n",
       "      <td>NaN</td>\n",
       "      <td>NaN</td>\n",
       "      <td>5.419008</td>\n",
       "    </tr>\n",
       "    <tr>\n",
       "      <th>std</th>\n",
       "      <td>NaN</td>\n",
       "      <td>4.053095</td>\n",
       "      <td>8.089419e+05</td>\n",
       "      <td>5.772400e+04</td>\n",
       "      <td>NaN</td>\n",
       "      <td>NaN</td>\n",
       "      <td>NaN</td>\n",
       "      <td>NaN</td>\n",
       "      <td>NaN</td>\n",
       "      <td>NaN</td>\n",
       "      <td>NaN</td>\n",
       "      <td>NaN</td>\n",
       "      <td>0.965767</td>\n",
       "    </tr>\n",
       "    <tr>\n",
       "      <th>min</th>\n",
       "      <td>NaN</td>\n",
       "      <td>1983.000000</td>\n",
       "      <td>2.999900e+04</td>\n",
       "      <td>1.000000e+00</td>\n",
       "      <td>NaN</td>\n",
       "      <td>NaN</td>\n",
       "      <td>NaN</td>\n",
       "      <td>NaN</td>\n",
       "      <td>NaN</td>\n",
       "      <td>NaN</td>\n",
       "      <td>NaN</td>\n",
       "      <td>NaN</td>\n",
       "      <td>2.000000</td>\n",
       "    </tr>\n",
       "    <tr>\n",
       "      <th>25%</th>\n",
       "      <td>NaN</td>\n",
       "      <td>2011.000000</td>\n",
       "      <td>2.549990e+05</td>\n",
       "      <td>3.500000e+04</td>\n",
       "      <td>NaN</td>\n",
       "      <td>NaN</td>\n",
       "      <td>NaN</td>\n",
       "      <td>NaN</td>\n",
       "      <td>NaN</td>\n",
       "      <td>NaN</td>\n",
       "      <td>NaN</td>\n",
       "      <td>NaN</td>\n",
       "      <td>5.000000</td>\n",
       "    </tr>\n",
       "    <tr>\n",
       "      <th>50%</th>\n",
       "      <td>NaN</td>\n",
       "      <td>2015.000000</td>\n",
       "      <td>4.500000e+05</td>\n",
       "      <td>6.000000e+04</td>\n",
       "      <td>NaN</td>\n",
       "      <td>NaN</td>\n",
       "      <td>NaN</td>\n",
       "      <td>NaN</td>\n",
       "      <td>NaN</td>\n",
       "      <td>NaN</td>\n",
       "      <td>NaN</td>\n",
       "      <td>NaN</td>\n",
       "      <td>5.000000</td>\n",
       "    </tr>\n",
       "    <tr>\n",
       "      <th>75%</th>\n",
       "      <td>NaN</td>\n",
       "      <td>2017.000000</td>\n",
       "      <td>6.750000e+05</td>\n",
       "      <td>9.700000e+04</td>\n",
       "      <td>NaN</td>\n",
       "      <td>NaN</td>\n",
       "      <td>NaN</td>\n",
       "      <td>NaN</td>\n",
       "      <td>NaN</td>\n",
       "      <td>NaN</td>\n",
       "      <td>NaN</td>\n",
       "      <td>NaN</td>\n",
       "      <td>5.000000</td>\n",
       "    </tr>\n",
       "    <tr>\n",
       "      <th>max</th>\n",
       "      <td>NaN</td>\n",
       "      <td>2020.000000</td>\n",
       "      <td>1.000000e+07</td>\n",
       "      <td>2.360457e+06</td>\n",
       "      <td>NaN</td>\n",
       "      <td>NaN</td>\n",
       "      <td>NaN</td>\n",
       "      <td>NaN</td>\n",
       "      <td>NaN</td>\n",
       "      <td>NaN</td>\n",
       "      <td>NaN</td>\n",
       "      <td>NaN</td>\n",
       "      <td>14.000000</td>\n",
       "    </tr>\n",
       "  </tbody>\n",
       "</table>\n",
       "</div>"
      ],
      "text/plain": [
       "                          name         year  selling_price     km_driven  \\\n",
       "count                     6999  6999.000000   6.999000e+03  6.999000e+03   \n",
       "unique                    1924          NaN            NaN           NaN   \n",
       "top     Maruti Swift Dzire VDI          NaN            NaN           NaN   \n",
       "freq                       116          NaN            NaN           NaN   \n",
       "mean                       NaN  2013.818403   6.395152e+05  6.958462e+04   \n",
       "std                        NaN     4.053095   8.089419e+05  5.772400e+04   \n",
       "min                        NaN  1983.000000   2.999900e+04  1.000000e+00   \n",
       "25%                        NaN  2011.000000   2.549990e+05  3.500000e+04   \n",
       "50%                        NaN  2015.000000   4.500000e+05  6.000000e+04   \n",
       "75%                        NaN  2017.000000   6.750000e+05  9.700000e+04   \n",
       "max                        NaN  2020.000000   1.000000e+07  2.360457e+06   \n",
       "\n",
       "          fuel seller_type transmission        owner    mileage   engine  \\\n",
       "count     6999        6999         6999         6999       6797     6797   \n",
       "unique       4           3            2            5        386      120   \n",
       "top     Diesel  Individual       Manual  First Owner  18.9 kmpl  1248 CC   \n",
       "freq      3793        5826         6095         4587        197      885   \n",
       "mean       NaN         NaN          NaN          NaN        NaN      NaN   \n",
       "std        NaN         NaN          NaN          NaN        NaN      NaN   \n",
       "min        NaN         NaN          NaN          NaN        NaN      NaN   \n",
       "25%        NaN         NaN          NaN          NaN        NaN      NaN   \n",
       "50%        NaN         NaN          NaN          NaN        NaN      NaN   \n",
       "75%        NaN         NaN          NaN          NaN        NaN      NaN   \n",
       "max        NaN         NaN          NaN          NaN        NaN      NaN   \n",
       "\n",
       "       max_power          torque        seats  \n",
       "count       6803            6796  6797.000000  \n",
       "unique       316             419          NaN  \n",
       "top       74 bhp  190Nm@ 2000rpm          NaN  \n",
       "freq         330             468          NaN  \n",
       "mean         NaN             NaN     5.419008  \n",
       "std          NaN             NaN     0.965767  \n",
       "min          NaN             NaN     2.000000  \n",
       "25%          NaN             NaN     5.000000  \n",
       "50%          NaN             NaN     5.000000  \n",
       "75%          NaN             NaN     5.000000  \n",
       "max          NaN             NaN    14.000000  "
      ]
     },
     "execution_count": 16,
     "metadata": {},
     "output_type": "execute_result"
    }
   ],
   "source": [
    "df_train.describe(include='all')"
   ]
  },
  {
   "cell_type": "code",
   "execution_count": 17,
   "metadata": {},
   "outputs": [
    {
     "data": {
      "text/html": [
       "<div>\n",
       "<style scoped>\n",
       "    .dataframe tbody tr th:only-of-type {\n",
       "        vertical-align: middle;\n",
       "    }\n",
       "\n",
       "    .dataframe tbody tr th {\n",
       "        vertical-align: top;\n",
       "    }\n",
       "\n",
       "    .dataframe thead th {\n",
       "        text-align: right;\n",
       "    }\n",
       "</style>\n",
       "<table border=\"1\" class=\"dataframe\">\n",
       "  <thead>\n",
       "    <tr style=\"text-align: right;\">\n",
       "      <th></th>\n",
       "      <th>name</th>\n",
       "      <th>year</th>\n",
       "      <th>selling_price</th>\n",
       "      <th>km_driven</th>\n",
       "      <th>fuel</th>\n",
       "      <th>seller_type</th>\n",
       "      <th>transmission</th>\n",
       "      <th>owner</th>\n",
       "      <th>mileage</th>\n",
       "      <th>engine</th>\n",
       "      <th>max_power</th>\n",
       "      <th>torque</th>\n",
       "      <th>seats</th>\n",
       "    </tr>\n",
       "  </thead>\n",
       "  <tbody>\n",
       "    <tr>\n",
       "      <th>count</th>\n",
       "      <td>1000</td>\n",
       "      <td>1000.000000</td>\n",
       "      <td>1.000000e+03</td>\n",
       "      <td>1000.000000</td>\n",
       "      <td>1000</td>\n",
       "      <td>1000</td>\n",
       "      <td>1000</td>\n",
       "      <td>1000</td>\n",
       "      <td>981</td>\n",
       "      <td>981</td>\n",
       "      <td>981</td>\n",
       "      <td>981</td>\n",
       "      <td>981.000000</td>\n",
       "    </tr>\n",
       "    <tr>\n",
       "      <th>unique</th>\n",
       "      <td>621</td>\n",
       "      <td>NaN</td>\n",
       "      <td>NaN</td>\n",
       "      <td>NaN</td>\n",
       "      <td>4</td>\n",
       "      <td>3</td>\n",
       "      <td>2</td>\n",
       "      <td>5</td>\n",
       "      <td>237</td>\n",
       "      <td>88</td>\n",
       "      <td>182</td>\n",
       "      <td>226</td>\n",
       "      <td>NaN</td>\n",
       "    </tr>\n",
       "    <tr>\n",
       "      <th>top</th>\n",
       "      <td>Maruti Alto 800 LXI</td>\n",
       "      <td>NaN</td>\n",
       "      <td>NaN</td>\n",
       "      <td>NaN</td>\n",
       "      <td>Diesel</td>\n",
       "      <td>Individual</td>\n",
       "      <td>Manual</td>\n",
       "      <td>First Owner</td>\n",
       "      <td>18.6 kmpl</td>\n",
       "      <td>1248 CC</td>\n",
       "      <td>74 bhp</td>\n",
       "      <td>200Nm@ 1750rpm</td>\n",
       "      <td>NaN</td>\n",
       "    </tr>\n",
       "    <tr>\n",
       "      <th>freq</th>\n",
       "      <td>15</td>\n",
       "      <td>NaN</td>\n",
       "      <td>NaN</td>\n",
       "      <td>NaN</td>\n",
       "      <td>534</td>\n",
       "      <td>837</td>\n",
       "      <td>877</td>\n",
       "      <td>623</td>\n",
       "      <td>23</td>\n",
       "      <td>116</td>\n",
       "      <td>43</td>\n",
       "      <td>57</td>\n",
       "      <td>NaN</td>\n",
       "    </tr>\n",
       "    <tr>\n",
       "      <th>mean</th>\n",
       "      <td>NaN</td>\n",
       "      <td>2013.681000</td>\n",
       "      <td>6.179010e+05</td>\n",
       "      <td>71393.341000</td>\n",
       "      <td>NaN</td>\n",
       "      <td>NaN</td>\n",
       "      <td>NaN</td>\n",
       "      <td>NaN</td>\n",
       "      <td>NaN</td>\n",
       "      <td>NaN</td>\n",
       "      <td>NaN</td>\n",
       "      <td>NaN</td>\n",
       "      <td>5.410805</td>\n",
       "    </tr>\n",
       "    <tr>\n",
       "      <th>std</th>\n",
       "      <td>NaN</td>\n",
       "      <td>4.012149</td>\n",
       "      <td>7.585539e+05</td>\n",
       "      <td>48486.218662</td>\n",
       "      <td>NaN</td>\n",
       "      <td>NaN</td>\n",
       "      <td>NaN</td>\n",
       "      <td>NaN</td>\n",
       "      <td>NaN</td>\n",
       "      <td>NaN</td>\n",
       "      <td>NaN</td>\n",
       "      <td>NaN</td>\n",
       "      <td>0.919985</td>\n",
       "    </tr>\n",
       "    <tr>\n",
       "      <th>min</th>\n",
       "      <td>NaN</td>\n",
       "      <td>1995.000000</td>\n",
       "      <td>3.100000e+04</td>\n",
       "      <td>1303.000000</td>\n",
       "      <td>NaN</td>\n",
       "      <td>NaN</td>\n",
       "      <td>NaN</td>\n",
       "      <td>NaN</td>\n",
       "      <td>NaN</td>\n",
       "      <td>NaN</td>\n",
       "      <td>NaN</td>\n",
       "      <td>NaN</td>\n",
       "      <td>4.000000</td>\n",
       "    </tr>\n",
       "    <tr>\n",
       "      <th>25%</th>\n",
       "      <td>NaN</td>\n",
       "      <td>2011.000000</td>\n",
       "      <td>2.500000e+05</td>\n",
       "      <td>37000.000000</td>\n",
       "      <td>NaN</td>\n",
       "      <td>NaN</td>\n",
       "      <td>NaN</td>\n",
       "      <td>NaN</td>\n",
       "      <td>NaN</td>\n",
       "      <td>NaN</td>\n",
       "      <td>NaN</td>\n",
       "      <td>NaN</td>\n",
       "      <td>5.000000</td>\n",
       "    </tr>\n",
       "    <tr>\n",
       "      <th>50%</th>\n",
       "      <td>NaN</td>\n",
       "      <td>2014.000000</td>\n",
       "      <td>4.349990e+05</td>\n",
       "      <td>61500.000000</td>\n",
       "      <td>NaN</td>\n",
       "      <td>NaN</td>\n",
       "      <td>NaN</td>\n",
       "      <td>NaN</td>\n",
       "      <td>NaN</td>\n",
       "      <td>NaN</td>\n",
       "      <td>NaN</td>\n",
       "      <td>NaN</td>\n",
       "      <td>5.000000</td>\n",
       "    </tr>\n",
       "    <tr>\n",
       "      <th>75%</th>\n",
       "      <td>NaN</td>\n",
       "      <td>2017.000000</td>\n",
       "      <td>6.700000e+05</td>\n",
       "      <td>100000.000000</td>\n",
       "      <td>NaN</td>\n",
       "      <td>NaN</td>\n",
       "      <td>NaN</td>\n",
       "      <td>NaN</td>\n",
       "      <td>NaN</td>\n",
       "      <td>NaN</td>\n",
       "      <td>NaN</td>\n",
       "      <td>NaN</td>\n",
       "      <td>5.000000</td>\n",
       "    </tr>\n",
       "    <tr>\n",
       "      <th>max</th>\n",
       "      <td>NaN</td>\n",
       "      <td>2020.000000</td>\n",
       "      <td>6.000000e+06</td>\n",
       "      <td>375000.000000</td>\n",
       "      <td>NaN</td>\n",
       "      <td>NaN</td>\n",
       "      <td>NaN</td>\n",
       "      <td>NaN</td>\n",
       "      <td>NaN</td>\n",
       "      <td>NaN</td>\n",
       "      <td>NaN</td>\n",
       "      <td>NaN</td>\n",
       "      <td>9.000000</td>\n",
       "    </tr>\n",
       "  </tbody>\n",
       "</table>\n",
       "</div>"
      ],
      "text/plain": [
       "                       name         year  selling_price      km_driven  \\\n",
       "count                  1000  1000.000000   1.000000e+03    1000.000000   \n",
       "unique                  621          NaN            NaN            NaN   \n",
       "top     Maruti Alto 800 LXI          NaN            NaN            NaN   \n",
       "freq                     15          NaN            NaN            NaN   \n",
       "mean                    NaN  2013.681000   6.179010e+05   71393.341000   \n",
       "std                     NaN     4.012149   7.585539e+05   48486.218662   \n",
       "min                     NaN  1995.000000   3.100000e+04    1303.000000   \n",
       "25%                     NaN  2011.000000   2.500000e+05   37000.000000   \n",
       "50%                     NaN  2014.000000   4.349990e+05   61500.000000   \n",
       "75%                     NaN  2017.000000   6.700000e+05  100000.000000   \n",
       "max                     NaN  2020.000000   6.000000e+06  375000.000000   \n",
       "\n",
       "          fuel seller_type transmission        owner    mileage   engine  \\\n",
       "count     1000        1000         1000         1000        981      981   \n",
       "unique       4           3            2            5        237       88   \n",
       "top     Diesel  Individual       Manual  First Owner  18.6 kmpl  1248 CC   \n",
       "freq       534         837          877          623         23      116   \n",
       "mean       NaN         NaN          NaN          NaN        NaN      NaN   \n",
       "std        NaN         NaN          NaN          NaN        NaN      NaN   \n",
       "min        NaN         NaN          NaN          NaN        NaN      NaN   \n",
       "25%        NaN         NaN          NaN          NaN        NaN      NaN   \n",
       "50%        NaN         NaN          NaN          NaN        NaN      NaN   \n",
       "75%        NaN         NaN          NaN          NaN        NaN      NaN   \n",
       "max        NaN         NaN          NaN          NaN        NaN      NaN   \n",
       "\n",
       "       max_power          torque       seats  \n",
       "count        981             981  981.000000  \n",
       "unique       182             226         NaN  \n",
       "top       74 bhp  200Nm@ 1750rpm         NaN  \n",
       "freq          43              57         NaN  \n",
       "mean         NaN             NaN    5.410805  \n",
       "std          NaN             NaN    0.919985  \n",
       "min          NaN             NaN    4.000000  \n",
       "25%          NaN             NaN    5.000000  \n",
       "50%          NaN             NaN    5.000000  \n",
       "75%          NaN             NaN    5.000000  \n",
       "max          NaN             NaN    9.000000  "
      ]
     },
     "execution_count": 17,
     "metadata": {},
     "output_type": "execute_result"
    }
   ],
   "source": [
    "df_test.describe(include='all')"
   ]
  },
  {
   "cell_type": "markdown",
   "metadata": {
    "id": "1X5_FzDOhjuh"
   },
   "source": [
    "(0.15 балла) <font color='#9933CC'>Посмотрите, есть ли в датасете пропуски.</font>\n",
    "\n",
    "<font color='#FF6600'>Если есть, то в каких колонках?</font>"
   ]
  },
  {
   "cell_type": "code",
   "execution_count": 20,
   "metadata": {
    "id": "67KXN7Fj0Chz"
   },
   "outputs": [
    {
     "data": {
      "text/plain": [
       "name               0\n",
       "year               0\n",
       "selling_price      0\n",
       "km_driven          0\n",
       "fuel               0\n",
       "seller_type        0\n",
       "transmission       0\n",
       "owner              0\n",
       "mileage          202\n",
       "engine           202\n",
       "max_power        196\n",
       "torque           203\n",
       "seats            202\n",
       "dtype: int64"
      ]
     },
     "execution_count": 20,
     "metadata": {},
     "output_type": "execute_result"
    }
   ],
   "source": [
    "df_train.isna().sum()"
   ]
  },
  {
   "cell_type": "code",
   "execution_count": 3,
   "metadata": {},
   "outputs": [
    {
     "data": {
      "text/plain": [
       "name              0\n",
       "year              0\n",
       "selling_price     0\n",
       "km_driven         0\n",
       "fuel              0\n",
       "seller_type       0\n",
       "transmission      0\n",
       "owner             0\n",
       "mileage          19\n",
       "engine           19\n",
       "max_power        19\n",
       "torque           19\n",
       "seats            19\n",
       "dtype: int64"
      ]
     },
     "execution_count": 3,
     "metadata": {},
     "output_type": "execute_result"
    }
   ],
   "source": [
    "df_test.isna().sum()"
   ]
  },
  {
   "cell_type": "markdown",
   "metadata": {},
   "source": [
    "Пропуски имеются.\n",
    "В трейне в колонках: 'mileage' - 202 пропуска, 'engine' - 202 пропуска, 'max_power' - 196 пропусков, 'torque' - 203 пропуска,  'seats' - 202 пропуска.\n",
    "В тесте в колонках: 'mileage' - 19 пропусков, 'engine' - 19 пропусков, 'max_power' - 19 пропусков, 'torque' - 19 пропусков,  'seats' - 19 пропусков."
   ]
  },
  {
   "cell_type": "markdown",
   "metadata": {
    "id": "B9KR76Uzjvqa"
   },
   "source": [
    "(0.1 балла) <font color='#9933CC'>Посмотрите, есть ли в трейне объекты с одинаковым признаковым описанием</font> (целевую переменную следует исключить). Если есть, то сколько?"
   ]
  },
  {
   "cell_type": "code",
   "execution_count": 3,
   "metadata": {
    "id": "J3Y-5Vyijys-"
   },
   "outputs": [],
   "source": [
    "# исключим целевую переменную\n",
    "tmp = df_train.drop(['selling_price'], axis=1)"
   ]
  },
  {
   "cell_type": "markdown",
   "metadata": {},
   "source": [
    "Как видно, если применить к трейн датасету маску, созданную методом duplicated(), получим датафрейм из 1159 эл-тов"
   ]
  },
  {
   "cell_type": "code",
   "execution_count": 8,
   "metadata": {},
   "outputs": [
    {
     "data": {
      "text/plain": [
       "(1159, 12)"
      ]
     },
     "execution_count": 8,
     "metadata": {},
     "output_type": "execute_result"
    }
   ],
   "source": [
    "tmp[tmp.duplicated()].shape"
   ]
  },
  {
   "cell_type": "markdown",
   "metadata": {},
   "source": [
    "Но метод duplicated() по умолчанию имеет параметр keep='first', это означает, что первое входение объекта с одинаковым признаковым описанием не учитвается в числе 1159. Для того, чтобы ответить на вопрос, сколько различных объектов в трейн датасете имеют одинаковое признаковое описание нужно сделать следующее:"
   ]
  },
  {
   "cell_type": "code",
   "execution_count": 8,
   "metadata": {},
   "outputs": [
    {
     "data": {
      "text/plain": [
       "640"
      ]
     },
     "execution_count": 8,
     "metadata": {},
     "output_type": "execute_result"
    }
   ],
   "source": [
    "tmp[tmp.duplicated(keep=False)].shape[0] - tmp[tmp.duplicated()].shape[0]"
   ]
  },
  {
   "cell_type": "markdown",
   "metadata": {},
   "source": [
    "Как видно, в трейн датасете имеется 640 различных объектов с одинаковым признаковым описанием, которые входят в датасет два и более раз."
   ]
  },
  {
   "cell_type": "markdown",
   "metadata": {
    "id": "UAwmwOwhlQmA"
   },
   "source": [
    "(0.15 балла) <font color='#9933CC'>Отобразите такие объекты</font>"
   ]
  },
  {
   "cell_type": "markdown",
   "metadata": {},
   "source": [
    "Возможно, не совсем корректно понял вопрос. Кол-во уникальных повторяющихся объектов велико для вывода (640). Ниже представлены 10 случайных из них."
   ]
  },
  {
   "cell_type": "code",
   "execution_count": 9,
   "metadata": {
    "id": "nSg0g13Ylgsh"
   },
   "outputs": [
    {
     "data": {
      "text/html": [
       "<div>\n",
       "<style scoped>\n",
       "    .dataframe tbody tr th:only-of-type {\n",
       "        vertical-align: middle;\n",
       "    }\n",
       "\n",
       "    .dataframe tbody tr th {\n",
       "        vertical-align: top;\n",
       "    }\n",
       "\n",
       "    .dataframe thead th {\n",
       "        text-align: right;\n",
       "    }\n",
       "</style>\n",
       "<table border=\"1\" class=\"dataframe\">\n",
       "  <thead>\n",
       "    <tr style=\"text-align: right;\">\n",
       "      <th></th>\n",
       "      <th>name</th>\n",
       "      <th>year</th>\n",
       "      <th>km_driven</th>\n",
       "      <th>fuel</th>\n",
       "      <th>seller_type</th>\n",
       "      <th>transmission</th>\n",
       "      <th>owner</th>\n",
       "      <th>mileage</th>\n",
       "      <th>engine</th>\n",
       "      <th>max_power</th>\n",
       "      <th>torque</th>\n",
       "      <th>seats</th>\n",
       "    </tr>\n",
       "  </thead>\n",
       "  <tbody>\n",
       "    <tr>\n",
       "      <th>6542</th>\n",
       "      <td>Maruti Omni MPI STD BSIII 8-STR W/ IMMOBILISER</td>\n",
       "      <td>2008</td>\n",
       "      <td>48676</td>\n",
       "      <td>Petrol</td>\n",
       "      <td>Individual</td>\n",
       "      <td>Manual</td>\n",
       "      <td>First Owner</td>\n",
       "      <td>19.7 kmpl</td>\n",
       "      <td>796 CC</td>\n",
       "      <td>35 bhp</td>\n",
       "      <td>6.1@ 3,000(kgm@ rpm)</td>\n",
       "      <td>8.0</td>\n",
       "    </tr>\n",
       "    <tr>\n",
       "      <th>2659</th>\n",
       "      <td>Maruti Swift AMT ZXI</td>\n",
       "      <td>2018</td>\n",
       "      <td>69779</td>\n",
       "      <td>Petrol</td>\n",
       "      <td>Dealer</td>\n",
       "      <td>Automatic</td>\n",
       "      <td>First Owner</td>\n",
       "      <td>22.0 kmpl</td>\n",
       "      <td>1197 CC</td>\n",
       "      <td>81.80 bhp</td>\n",
       "      <td>113Nm@ 4200rpm</td>\n",
       "      <td>5.0</td>\n",
       "    </tr>\n",
       "    <tr>\n",
       "      <th>984</th>\n",
       "      <td>Toyota Etios VX</td>\n",
       "      <td>2017</td>\n",
       "      <td>25538</td>\n",
       "      <td>Petrol</td>\n",
       "      <td>Trustmark Dealer</td>\n",
       "      <td>Manual</td>\n",
       "      <td>First Owner</td>\n",
       "      <td>16.78 kmpl</td>\n",
       "      <td>1496 CC</td>\n",
       "      <td>88.73 bhp</td>\n",
       "      <td>132Nm@ 3000rpm</td>\n",
       "      <td>5.0</td>\n",
       "    </tr>\n",
       "    <tr>\n",
       "      <th>2902</th>\n",
       "      <td>Maruti Swift Dzire VXI</td>\n",
       "      <td>2014</td>\n",
       "      <td>30000</td>\n",
       "      <td>Petrol</td>\n",
       "      <td>Individual</td>\n",
       "      <td>Manual</td>\n",
       "      <td>First Owner</td>\n",
       "      <td>19.1 kmpl</td>\n",
       "      <td>1197 CC</td>\n",
       "      <td>85.8 bhp</td>\n",
       "      <td>114Nm@ 4000rpm</td>\n",
       "      <td>5.0</td>\n",
       "    </tr>\n",
       "    <tr>\n",
       "      <th>5064</th>\n",
       "      <td>Maruti Swift Dzire VDI</td>\n",
       "      <td>2014</td>\n",
       "      <td>60000</td>\n",
       "      <td>Diesel</td>\n",
       "      <td>Individual</td>\n",
       "      <td>Manual</td>\n",
       "      <td>First Owner</td>\n",
       "      <td>23.4 kmpl</td>\n",
       "      <td>1248 CC</td>\n",
       "      <td>74 bhp</td>\n",
       "      <td>190Nm@ 2000rpm</td>\n",
       "      <td>5.0</td>\n",
       "    </tr>\n",
       "    <tr>\n",
       "      <th>1604</th>\n",
       "      <td>Toyota Innova 2.5 VX (Diesel) 7 Seater</td>\n",
       "      <td>2013</td>\n",
       "      <td>79328</td>\n",
       "      <td>Diesel</td>\n",
       "      <td>Trustmark Dealer</td>\n",
       "      <td>Manual</td>\n",
       "      <td>Second Owner</td>\n",
       "      <td>12.99 kmpl</td>\n",
       "      <td>2494 CC</td>\n",
       "      <td>100.6 bhp</td>\n",
       "      <td>200Nm@ 1200-3600rpm</td>\n",
       "      <td>7.0</td>\n",
       "    </tr>\n",
       "    <tr>\n",
       "      <th>4815</th>\n",
       "      <td>Hyundai Grand i10 1.2 CRDi Sportz</td>\n",
       "      <td>2017</td>\n",
       "      <td>56290</td>\n",
       "      <td>Diesel</td>\n",
       "      <td>Dealer</td>\n",
       "      <td>Manual</td>\n",
       "      <td>First Owner</td>\n",
       "      <td>24.0 kmpl</td>\n",
       "      <td>1186 CC</td>\n",
       "      <td>73.97 bhp</td>\n",
       "      <td>190.24nm@ 1750-2250rpm</td>\n",
       "      <td>5.0</td>\n",
       "    </tr>\n",
       "    <tr>\n",
       "      <th>3786</th>\n",
       "      <td>Volvo V40 D3 R-Design</td>\n",
       "      <td>2018</td>\n",
       "      <td>2000</td>\n",
       "      <td>Diesel</td>\n",
       "      <td>Dealer</td>\n",
       "      <td>Automatic</td>\n",
       "      <td>First Owner</td>\n",
       "      <td>16.8 kmpl</td>\n",
       "      <td>1984 CC</td>\n",
       "      <td>150 bhp</td>\n",
       "      <td>350Nm@ 1500-2750rpm</td>\n",
       "      <td>5.0</td>\n",
       "    </tr>\n",
       "    <tr>\n",
       "      <th>5990</th>\n",
       "      <td>Tata Safari Storme EX</td>\n",
       "      <td>2015</td>\n",
       "      <td>110000</td>\n",
       "      <td>Diesel</td>\n",
       "      <td>Individual</td>\n",
       "      <td>Manual</td>\n",
       "      <td>First Owner</td>\n",
       "      <td>14.1 kmpl</td>\n",
       "      <td>2179 CC</td>\n",
       "      <td>147.94 bhp</td>\n",
       "      <td>320Nm@ 1500-3000rpm</td>\n",
       "      <td>7.0</td>\n",
       "    </tr>\n",
       "    <tr>\n",
       "      <th>4090</th>\n",
       "      <td>Jaguar XE 2016-2019 2.0L Diesel Prestige</td>\n",
       "      <td>2017</td>\n",
       "      <td>9000</td>\n",
       "      <td>Diesel</td>\n",
       "      <td>Dealer</td>\n",
       "      <td>Automatic</td>\n",
       "      <td>First Owner</td>\n",
       "      <td>13.6 kmpl</td>\n",
       "      <td>1999 CC</td>\n",
       "      <td>177 bhp</td>\n",
       "      <td>430Nm@ 1750-2500rpm</td>\n",
       "      <td>5.0</td>\n",
       "    </tr>\n",
       "  </tbody>\n",
       "</table>\n",
       "</div>"
      ],
      "text/plain": [
       "                                                name  year  km_driven    fuel  \\\n",
       "6542  Maruti Omni MPI STD BSIII 8-STR W/ IMMOBILISER  2008      48676  Petrol   \n",
       "2659                            Maruti Swift AMT ZXI  2018      69779  Petrol   \n",
       "984                                  Toyota Etios VX  2017      25538  Petrol   \n",
       "2902                          Maruti Swift Dzire VXI  2014      30000  Petrol   \n",
       "5064                          Maruti Swift Dzire VDI  2014      60000  Diesel   \n",
       "1604          Toyota Innova 2.5 VX (Diesel) 7 Seater  2013      79328  Diesel   \n",
       "4815               Hyundai Grand i10 1.2 CRDi Sportz  2017      56290  Diesel   \n",
       "3786                           Volvo V40 D3 R-Design  2018       2000  Diesel   \n",
       "5990                           Tata Safari Storme EX  2015     110000  Diesel   \n",
       "4090        Jaguar XE 2016-2019 2.0L Diesel Prestige  2017       9000  Diesel   \n",
       "\n",
       "           seller_type transmission         owner     mileage   engine  \\\n",
       "6542        Individual       Manual   First Owner   19.7 kmpl   796 CC   \n",
       "2659            Dealer    Automatic   First Owner   22.0 kmpl  1197 CC   \n",
       "984   Trustmark Dealer       Manual   First Owner  16.78 kmpl  1496 CC   \n",
       "2902        Individual       Manual   First Owner   19.1 kmpl  1197 CC   \n",
       "5064        Individual       Manual   First Owner   23.4 kmpl  1248 CC   \n",
       "1604  Trustmark Dealer       Manual  Second Owner  12.99 kmpl  2494 CC   \n",
       "4815            Dealer       Manual   First Owner   24.0 kmpl  1186 CC   \n",
       "3786            Dealer    Automatic   First Owner   16.8 kmpl  1984 CC   \n",
       "5990        Individual       Manual   First Owner   14.1 kmpl  2179 CC   \n",
       "4090            Dealer    Automatic   First Owner   13.6 kmpl  1999 CC   \n",
       "\n",
       "       max_power                  torque  seats  \n",
       "6542      35 bhp    6.1@ 3,000(kgm@ rpm)    8.0  \n",
       "2659   81.80 bhp          113Nm@ 4200rpm    5.0  \n",
       "984    88.73 bhp          132Nm@ 3000rpm    5.0  \n",
       "2902    85.8 bhp          114Nm@ 4000rpm    5.0  \n",
       "5064      74 bhp          190Nm@ 2000rpm    5.0  \n",
       "1604   100.6 bhp     200Nm@ 1200-3600rpm    7.0  \n",
       "4815   73.97 bhp  190.24nm@ 1750-2250rpm    5.0  \n",
       "3786     150 bhp     350Nm@ 1500-2750rpm    5.0  \n",
       "5990  147.94 bhp     320Nm@ 1500-3000rpm    7.0  \n",
       "4090     177 bhp     430Nm@ 1750-2500rpm    5.0  "
      ]
     },
     "execution_count": 9,
     "metadata": {},
     "output_type": "execute_result"
    }
   ],
   "source": [
    "tmp[tmp.duplicated()].sample(10)"
   ]
  },
  {
   "cell_type": "markdown",
   "metadata": {
    "id": "156jDf_Yj64l"
   },
   "source": [
    "(0.15 балла) <font color='#9933CC'>Удалите повторяющиеся строки</font>. Если при одинаковом признаковом описании цены на автомобили отличаются, то оставьте первую строку по этому автомобилю"
   ]
  },
  {
   "cell_type": "code",
   "execution_count": 4,
   "metadata": {
    "id": "sD0e3HZejmB-"
   },
   "outputs": [],
   "source": [
    "# получим индексы строк, которые необходимо удалить\n",
    "ind = list(tmp[tmp.duplicated()].index)"
   ]
  },
  {
   "cell_type": "code",
   "execution_count": 5,
   "metadata": {},
   "outputs": [],
   "source": [
    "df_train.drop(index=ind, inplace=True)"
   ]
  },
  {
   "cell_type": "code",
   "execution_count": 6,
   "metadata": {
    "id": "vF0yfzMOkEn8"
   },
   "outputs": [],
   "source": [
    "assert df_train.shape == (5840, 13)"
   ]
  },
  {
   "cell_type": "markdown",
   "metadata": {
    "id": "_SglCDNUkMTa"
   },
   "source": [
    "(0.1 балла) Чтоб все было по красоте, <font color='#9933CC'>обновите индексы строк таким образом, чтобы они шли от 0 без пропусков</font>"
   ]
  },
  {
   "cell_type": "code",
   "execution_count": 7,
   "metadata": {
    "id": "4RxpM81kkgsX"
   },
   "outputs": [],
   "source": [
    "df_train.reset_index(drop=True , inplace=True)"
   ]
  },
  {
   "cell_type": "markdown",
   "metadata": {
    "id": "CzYgx2wJzLxN"
   },
   "source": [
    "Вы могли заметить, что с признаками ``mileage, engine, max_power и torque`` всё не слава богу. Давайте починим.\n",
    "\n",
    "(0.25 балла) Задача такая: \n",
    "<font color='#9933CC'>\n",
    "* убрать единицы измерения для признаков ``mileage, engine, max_power``. \n",
    "* кастануть эти столбцы столбцы к ``float``.\n",
    "* удалить столбец ``torque``\n",
    "</font>\n",
    "\n",
    "> Все действия нужно производить над обоими датасетами"
   ]
  },
  {
   "cell_type": "code",
   "execution_count": 8,
   "metadata": {},
   "outputs": [],
   "source": [
    "# в абсолютном большинтся столбццы содержат строки вида \"число ед.изм.\", но имеются пара объектов, в которых содержатся \n",
    "# числа типа float поэтому x сначала переводится к str, чтобы можно было применить split ко всем элементам\n",
    "df_train['mileage'] = df_train['mileage'].apply(lambda x: float(str(x).split()[0]))\n",
    "df_test['mileage'] = df_test['mileage'].apply(lambda x: float(str(x).split()[0]))"
   ]
  },
  {
   "cell_type": "code",
   "execution_count": 9,
   "metadata": {},
   "outputs": [],
   "source": [
    "df_train['engine'] = df_train['engine'].apply(lambda x: float(str(x).split()[0]))\n",
    "df_test['engine'] = df_test['engine'].apply(lambda x: float(str(x).split()[0]))"
   ]
  },
  {
   "cell_type": "code",
   "execution_count": 10,
   "metadata": {},
   "outputs": [
    {
     "data": {
      "text/html": [
       "<div>\n",
       "<style scoped>\n",
       "    .dataframe tbody tr th:only-of-type {\n",
       "        vertical-align: middle;\n",
       "    }\n",
       "\n",
       "    .dataframe tbody tr th {\n",
       "        vertical-align: top;\n",
       "    }\n",
       "\n",
       "    .dataframe thead th {\n",
       "        text-align: right;\n",
       "    }\n",
       "</style>\n",
       "<table border=\"1\" class=\"dataframe\">\n",
       "  <thead>\n",
       "    <tr style=\"text-align: right;\">\n",
       "      <th></th>\n",
       "      <th>name</th>\n",
       "      <th>year</th>\n",
       "      <th>selling_price</th>\n",
       "      <th>km_driven</th>\n",
       "      <th>fuel</th>\n",
       "      <th>seller_type</th>\n",
       "      <th>transmission</th>\n",
       "      <th>owner</th>\n",
       "      <th>mileage</th>\n",
       "      <th>engine</th>\n",
       "      <th>max_power</th>\n",
       "      <th>torque</th>\n",
       "      <th>seats</th>\n",
       "    </tr>\n",
       "  </thead>\n",
       "  <tbody>\n",
       "    <tr>\n",
       "      <th>3586</th>\n",
       "      <td>Maruti Omni CNG</td>\n",
       "      <td>2000</td>\n",
       "      <td>80000</td>\n",
       "      <td>100000</td>\n",
       "      <td>CNG</td>\n",
       "      <td>Individual</td>\n",
       "      <td>Manual</td>\n",
       "      <td>Second Owner</td>\n",
       "      <td>10.9</td>\n",
       "      <td>796.0</td>\n",
       "      <td>bhp</td>\n",
       "      <td>NaN</td>\n",
       "      <td>8.0</td>\n",
       "    </tr>\n",
       "  </tbody>\n",
       "</table>\n",
       "</div>"
      ],
      "text/plain": [
       "                 name  year  selling_price  km_driven fuel seller_type  \\\n",
       "3586  Maruti Omni CNG  2000          80000     100000  CNG  Individual   \n",
       "\n",
       "     transmission         owner  mileage  engine max_power torque  seats  \n",
       "3586       Manual  Second Owner     10.9   796.0       bhp    NaN    8.0  "
      ]
     },
     "execution_count": 10,
     "metadata": {},
     "output_type": "execute_result"
    }
   ],
   "source": [
    "# в трейне есть объект, у которого в столбце 'max_power' записано просто 'bph', заменим его на np.nan\n",
    "df_train[df_train['max_power'] == ' bhp']"
   ]
  },
  {
   "cell_type": "code",
   "execution_count": 11,
   "metadata": {},
   "outputs": [],
   "source": [
    "df_train['max_power'] = np.where(df_train['max_power'] == ' bhp', np.nan, df_train['max_power'])"
   ]
  },
  {
   "cell_type": "code",
   "execution_count": 12,
   "metadata": {},
   "outputs": [
    {
     "data": {
      "text/plain": [
       "name             Maruti Omni CNG\n",
       "year                        2000\n",
       "selling_price              80000\n",
       "km_driven                 100000\n",
       "fuel                         CNG\n",
       "seller_type           Individual\n",
       "transmission              Manual\n",
       "owner               Second Owner\n",
       "mileage                     10.9\n",
       "engine                     796.0\n",
       "max_power                    NaN\n",
       "torque                       NaN\n",
       "seats                        8.0\n",
       "Name: 3586, dtype: object"
      ]
     },
     "execution_count": 12,
     "metadata": {},
     "output_type": "execute_result"
    }
   ],
   "source": [
    "# проверка\n",
    "df_train.iloc[3586]"
   ]
  },
  {
   "cell_type": "code",
   "execution_count": 13,
   "metadata": {},
   "outputs": [],
   "source": [
    "df_train['max_power'] = df_train['max_power'].apply(lambda x: float(str(x).split()[0]))\n",
    "df_test['max_power'] = df_test['max_power'].apply(lambda x: float(str(x).split()[0]))"
   ]
  },
  {
   "cell_type": "code",
   "execution_count": 14,
   "metadata": {},
   "outputs": [],
   "source": [
    "# удалим стобец 'torque'\n",
    "df_train.drop(['torque'], axis=1, inplace=True)\n",
    "df_test.drop(['torque'], axis=1, inplace=True)"
   ]
  },
  {
   "cell_type": "code",
   "execution_count": 128,
   "metadata": {},
   "outputs": [
    {
     "data": {
      "text/html": [
       "<div>\n",
       "<style scoped>\n",
       "    .dataframe tbody tr th:only-of-type {\n",
       "        vertical-align: middle;\n",
       "    }\n",
       "\n",
       "    .dataframe tbody tr th {\n",
       "        vertical-align: top;\n",
       "    }\n",
       "\n",
       "    .dataframe thead th {\n",
       "        text-align: right;\n",
       "    }\n",
       "</style>\n",
       "<table border=\"1\" class=\"dataframe\">\n",
       "  <thead>\n",
       "    <tr style=\"text-align: right;\">\n",
       "      <th></th>\n",
       "      <th>name</th>\n",
       "      <th>year</th>\n",
       "      <th>selling_price</th>\n",
       "      <th>km_driven</th>\n",
       "      <th>fuel</th>\n",
       "      <th>seller_type</th>\n",
       "      <th>transmission</th>\n",
       "      <th>owner</th>\n",
       "      <th>mileage</th>\n",
       "      <th>engine</th>\n",
       "      <th>max_power</th>\n",
       "      <th>seats</th>\n",
       "    </tr>\n",
       "  </thead>\n",
       "  <tbody>\n",
       "    <tr>\n",
       "      <th>4146</th>\n",
       "      <td>Maruti Eeco 5 Seater AC BSIV</td>\n",
       "      <td>2014</td>\n",
       "      <td>300000</td>\n",
       "      <td>49025</td>\n",
       "      <td>Petrol</td>\n",
       "      <td>Individual</td>\n",
       "      <td>Manual</td>\n",
       "      <td>First Owner</td>\n",
       "      <td>15.37</td>\n",
       "      <td>1196.0</td>\n",
       "      <td>73.0</td>\n",
       "      <td>5.0</td>\n",
       "    </tr>\n",
       "    <tr>\n",
       "      <th>3893</th>\n",
       "      <td>Skoda Octavia L and K 1.9 TDI MT</td>\n",
       "      <td>2005</td>\n",
       "      <td>250000</td>\n",
       "      <td>120000</td>\n",
       "      <td>Diesel</td>\n",
       "      <td>Individual</td>\n",
       "      <td>Manual</td>\n",
       "      <td>Third Owner</td>\n",
       "      <td>16.40</td>\n",
       "      <td>1896.0</td>\n",
       "      <td>90.0</td>\n",
       "      <td>5.0</td>\n",
       "    </tr>\n",
       "    <tr>\n",
       "      <th>4394</th>\n",
       "      <td>Tata Tigor 1.2 Revotron XZ</td>\n",
       "      <td>2018</td>\n",
       "      <td>535000</td>\n",
       "      <td>30000</td>\n",
       "      <td>Petrol</td>\n",
       "      <td>Individual</td>\n",
       "      <td>Manual</td>\n",
       "      <td>First Owner</td>\n",
       "      <td>20.30</td>\n",
       "      <td>1199.0</td>\n",
       "      <td>84.0</td>\n",
       "      <td>5.0</td>\n",
       "    </tr>\n",
       "    <tr>\n",
       "      <th>1434</th>\n",
       "      <td>Honda City i VTEC V</td>\n",
       "      <td>2016</td>\n",
       "      <td>675000</td>\n",
       "      <td>53201</td>\n",
       "      <td>Petrol</td>\n",
       "      <td>Trustmark Dealer</td>\n",
       "      <td>Manual</td>\n",
       "      <td>Second Owner</td>\n",
       "      <td>17.80</td>\n",
       "      <td>1497.0</td>\n",
       "      <td>117.3</td>\n",
       "      <td>5.0</td>\n",
       "    </tr>\n",
       "    <tr>\n",
       "      <th>4600</th>\n",
       "      <td>Tata Bolt Revotron XE</td>\n",
       "      <td>2017</td>\n",
       "      <td>350000</td>\n",
       "      <td>35000</td>\n",
       "      <td>Petrol</td>\n",
       "      <td>Individual</td>\n",
       "      <td>Manual</td>\n",
       "      <td>First Owner</td>\n",
       "      <td>17.57</td>\n",
       "      <td>1193.0</td>\n",
       "      <td>88.7</td>\n",
       "      <td>5.0</td>\n",
       "    </tr>\n",
       "  </tbody>\n",
       "</table>\n",
       "</div>"
      ],
      "text/plain": [
       "                                  name  year  selling_price  km_driven  \\\n",
       "4146      Maruti Eeco 5 Seater AC BSIV  2014         300000      49025   \n",
       "3893  Skoda Octavia L and K 1.9 TDI MT  2005         250000     120000   \n",
       "4394        Tata Tigor 1.2 Revotron XZ  2018         535000      30000   \n",
       "1434               Honda City i VTEC V  2016         675000      53201   \n",
       "4600             Tata Bolt Revotron XE  2017         350000      35000   \n",
       "\n",
       "        fuel       seller_type transmission         owner  mileage  engine  \\\n",
       "4146  Petrol        Individual       Manual   First Owner    15.37  1196.0   \n",
       "3893  Diesel        Individual       Manual   Third Owner    16.40  1896.0   \n",
       "4394  Petrol        Individual       Manual   First Owner    20.30  1199.0   \n",
       "1434  Petrol  Trustmark Dealer       Manual  Second Owner    17.80  1497.0   \n",
       "4600  Petrol        Individual       Manual   First Owner    17.57  1193.0   \n",
       "\n",
       "      max_power  seats  \n",
       "4146       73.0    5.0  \n",
       "3893       90.0    5.0  \n",
       "4394       84.0    5.0  \n",
       "1434      117.3    5.0  \n",
       "4600       88.7    5.0  "
      ]
     },
     "execution_count": 128,
     "metadata": {},
     "output_type": "execute_result"
    }
   ],
   "source": [
    "df_train.sample(5)"
   ]
  },
  {
   "cell_type": "code",
   "execution_count": 129,
   "metadata": {},
   "outputs": [
    {
     "data": {
      "text/html": [
       "<div>\n",
       "<style scoped>\n",
       "    .dataframe tbody tr th:only-of-type {\n",
       "        vertical-align: middle;\n",
       "    }\n",
       "\n",
       "    .dataframe tbody tr th {\n",
       "        vertical-align: top;\n",
       "    }\n",
       "\n",
       "    .dataframe thead th {\n",
       "        text-align: right;\n",
       "    }\n",
       "</style>\n",
       "<table border=\"1\" class=\"dataframe\">\n",
       "  <thead>\n",
       "    <tr style=\"text-align: right;\">\n",
       "      <th></th>\n",
       "      <th>name</th>\n",
       "      <th>year</th>\n",
       "      <th>selling_price</th>\n",
       "      <th>km_driven</th>\n",
       "      <th>fuel</th>\n",
       "      <th>seller_type</th>\n",
       "      <th>transmission</th>\n",
       "      <th>owner</th>\n",
       "      <th>mileage</th>\n",
       "      <th>engine</th>\n",
       "      <th>max_power</th>\n",
       "      <th>seats</th>\n",
       "    </tr>\n",
       "  </thead>\n",
       "  <tbody>\n",
       "    <tr>\n",
       "      <th>112</th>\n",
       "      <td>Maruti Swift Dzire ZDI</td>\n",
       "      <td>2017</td>\n",
       "      <td>750000</td>\n",
       "      <td>110000</td>\n",
       "      <td>Diesel</td>\n",
       "      <td>Individual</td>\n",
       "      <td>Manual</td>\n",
       "      <td>Second Owner</td>\n",
       "      <td>28.4</td>\n",
       "      <td>1248.0</td>\n",
       "      <td>74.02</td>\n",
       "      <td>5.0</td>\n",
       "    </tr>\n",
       "    <tr>\n",
       "      <th>646</th>\n",
       "      <td>Ford Fiesta 1.4 SXi TDCi ABS</td>\n",
       "      <td>2010</td>\n",
       "      <td>229999</td>\n",
       "      <td>170000</td>\n",
       "      <td>Diesel</td>\n",
       "      <td>Individual</td>\n",
       "      <td>Manual</td>\n",
       "      <td>Second Owner</td>\n",
       "      <td>17.8</td>\n",
       "      <td>1399.0</td>\n",
       "      <td>68.00</td>\n",
       "      <td>5.0</td>\n",
       "    </tr>\n",
       "    <tr>\n",
       "      <th>825</th>\n",
       "      <td>Honda Amaze S i-VTEC</td>\n",
       "      <td>2019</td>\n",
       "      <td>690000</td>\n",
       "      <td>1303</td>\n",
       "      <td>Petrol</td>\n",
       "      <td>Dealer</td>\n",
       "      <td>Manual</td>\n",
       "      <td>First Owner</td>\n",
       "      <td>17.8</td>\n",
       "      <td>1198.0</td>\n",
       "      <td>86.70</td>\n",
       "      <td>5.0</td>\n",
       "    </tr>\n",
       "    <tr>\n",
       "      <th>354</th>\n",
       "      <td>Mahindra Bolero SLX</td>\n",
       "      <td>2011</td>\n",
       "      <td>340000</td>\n",
       "      <td>100000</td>\n",
       "      <td>Diesel</td>\n",
       "      <td>Individual</td>\n",
       "      <td>Manual</td>\n",
       "      <td>Second Owner</td>\n",
       "      <td>13.6</td>\n",
       "      <td>2523.0</td>\n",
       "      <td>63.00</td>\n",
       "      <td>7.0</td>\n",
       "    </tr>\n",
       "    <tr>\n",
       "      <th>565</th>\n",
       "      <td>Maruti Wagon R AX Minor</td>\n",
       "      <td>2007</td>\n",
       "      <td>80000</td>\n",
       "      <td>63000</td>\n",
       "      <td>Petrol</td>\n",
       "      <td>Individual</td>\n",
       "      <td>Automatic</td>\n",
       "      <td>Third Owner</td>\n",
       "      <td>18.9</td>\n",
       "      <td>1061.0</td>\n",
       "      <td>67.00</td>\n",
       "      <td>5.0</td>\n",
       "    </tr>\n",
       "  </tbody>\n",
       "</table>\n",
       "</div>"
      ],
      "text/plain": [
       "                             name  year  selling_price  km_driven    fuel  \\\n",
       "112        Maruti Swift Dzire ZDI  2017         750000     110000  Diesel   \n",
       "646  Ford Fiesta 1.4 SXi TDCi ABS  2010         229999     170000  Diesel   \n",
       "825          Honda Amaze S i-VTEC  2019         690000       1303  Petrol   \n",
       "354           Mahindra Bolero SLX  2011         340000     100000  Diesel   \n",
       "565       Maruti Wagon R AX Minor  2007          80000      63000  Petrol   \n",
       "\n",
       "    seller_type transmission         owner  mileage  engine  max_power  seats  \n",
       "112  Individual       Manual  Second Owner     28.4  1248.0      74.02    5.0  \n",
       "646  Individual       Manual  Second Owner     17.8  1399.0      68.00    5.0  \n",
       "825      Dealer       Manual   First Owner     17.8  1198.0      86.70    5.0  \n",
       "354  Individual       Manual  Second Owner     13.6  2523.0      63.00    7.0  \n",
       "565  Individual    Automatic   Third Owner     18.9  1061.0      67.00    5.0  "
      ]
     },
     "execution_count": 129,
     "metadata": {},
     "output_type": "execute_result"
    }
   ],
   "source": [
    "df_test.sample(5)"
   ]
  },
  {
   "cell_type": "markdown",
   "metadata": {},
   "source": [
    "**Доп (0.25 балла):**\n",
    "* <font color='#9933CC'>Вместо удаления признак `torque` разделите на два: собственно `torque` и `max_torque_rpm`.</font> Учтите единицы измерения. Они разные ☹"
   ]
  },
  {
   "cell_type": "code",
   "execution_count": null,
   "metadata": {
    "id": "njamVk3A1dVM"
   },
   "outputs": [],
   "source": [
    "# Не выполнял (столбец torque удален)"
   ]
  },
  {
   "cell_type": "markdown",
   "metadata": {
    "id": "nyEtp7jsRNms"
   },
   "source": [
    "(0.15 балла) <font color='#9933CC'>Заполните пропуски в столбцах медианами. Убедитесь, что после заполнения пропусков не осталось</font>\n",
    "\n",
    "> Обратите внимание, что, по уму, нужно посчитать медиану по трейну и этим средним заполнять пропуски в тесте. Так же делаем, если, например, стандартизируем признаки.\n",
    "\n"
   ]
  },
  {
   "cell_type": "code",
   "execution_count": 15,
   "metadata": {
    "id": "M9H15wvXRYQF"
   },
   "outputs": [
    {
     "data": {
      "text/plain": [
       "name               0\n",
       "year               0\n",
       "selling_price      0\n",
       "km_driven          0\n",
       "fuel               0\n",
       "seller_type        0\n",
       "transmission       0\n",
       "owner              0\n",
       "mileage          186\n",
       "engine           186\n",
       "max_power        184\n",
       "seats            186\n",
       "dtype: int64"
      ]
     },
     "execution_count": 15,
     "metadata": {},
     "output_type": "execute_result"
    }
   ],
   "source": [
    "# наши пропуски\n",
    "df_train.isna().sum()"
   ]
  },
  {
   "cell_type": "code",
   "execution_count": 16,
   "metadata": {},
   "outputs": [
    {
     "data": {
      "text/plain": [
       "name              0\n",
       "year              0\n",
       "selling_price     0\n",
       "km_driven         0\n",
       "fuel              0\n",
       "seller_type       0\n",
       "transmission      0\n",
       "owner             0\n",
       "mileage          19\n",
       "engine           19\n",
       "max_power        19\n",
       "seats            19\n",
       "dtype: int64"
      ]
     },
     "execution_count": 16,
     "metadata": {},
     "output_type": "execute_result"
    }
   ],
   "source": [
    "df_test.isna().sum()"
   ]
  },
  {
   "cell_type": "code",
   "execution_count": 17,
   "metadata": {},
   "outputs": [
    {
     "data": {
      "text/plain": [
       "19.43"
      ]
     },
     "execution_count": 17,
     "metadata": {},
     "output_type": "execute_result"
    }
   ],
   "source": [
    "# mileage - непрерывная величина\n",
    "mean_mileage = round(df_train['mileage'].mean(), 2)\n",
    "mean_mileage"
   ]
  },
  {
   "cell_type": "code",
   "execution_count": 18,
   "metadata": {},
   "outputs": [
    {
     "data": {
      "text/plain": [
       "1248.0"
      ]
     },
     "execution_count": 18,
     "metadata": {},
     "output_type": "execute_result"
    }
   ],
   "source": [
    "# engine - дискретная величина (приниает только целые значения), считаем median(), а не mean()\n",
    "median_engine = df_train['engine'].median()\n",
    "median_engine"
   ]
  },
  {
   "cell_type": "code",
   "execution_count": 19,
   "metadata": {},
   "outputs": [
    {
     "data": {
      "text/plain": [
       "88.1"
      ]
     },
     "execution_count": 19,
     "metadata": {},
     "output_type": "execute_result"
    }
   ],
   "source": [
    "# max_power - непрерывная величина\n",
    "mean_power = round(df_train['max_power'].mean(), 2)\n",
    "mean_power"
   ]
  },
  {
   "cell_type": "code",
   "execution_count": 20,
   "metadata": {},
   "outputs": [
    {
     "data": {
      "text/plain": [
       "5.0"
      ]
     },
     "execution_count": 20,
     "metadata": {},
     "output_type": "execute_result"
    }
   ],
   "source": [
    "# engine - дискретная величина (приниает только целые значения), считаем median(), а не mean()\n",
    "median_seats = df_train['seats'].median()\n",
    "median_seats"
   ]
  },
  {
   "cell_type": "code",
   "execution_count": 21,
   "metadata": {},
   "outputs": [],
   "source": [
    "df_train['mileage'].fillna(mean_mileage, inplace=True)\n",
    "df_test['mileage'].fillna(mean_mileage, inplace=True)\n",
    "\n",
    "df_train['engine'].fillna(median_engine, inplace=True)\n",
    "df_test['engine'].fillna(median_engine, inplace=True)\n",
    "\n",
    "df_train['max_power'].fillna(mean_power, inplace=True)\n",
    "df_test['max_power'].fillna(mean_power, inplace=True)\n",
    "\n",
    "df_train['seats'].fillna(median_seats, inplace=True)\n",
    "df_test['seats'].fillna(median_seats, inplace=True)"
   ]
  },
  {
   "cell_type": "code",
   "execution_count": 22,
   "metadata": {},
   "outputs": [
    {
     "data": {
      "text/plain": [
       "name             0\n",
       "year             0\n",
       "selling_price    0\n",
       "km_driven        0\n",
       "fuel             0\n",
       "seller_type      0\n",
       "transmission     0\n",
       "owner            0\n",
       "mileage          0\n",
       "engine           0\n",
       "max_power        0\n",
       "seats            0\n",
       "dtype: int64"
      ]
     },
     "execution_count": 22,
     "metadata": {},
     "output_type": "execute_result"
    }
   ],
   "source": [
    "# проверка\n",
    "df_train.isna().sum()"
   ]
  },
  {
   "cell_type": "code",
   "execution_count": 23,
   "metadata": {},
   "outputs": [
    {
     "data": {
      "text/plain": [
       "name             0\n",
       "year             0\n",
       "selling_price    0\n",
       "km_driven        0\n",
       "fuel             0\n",
       "seller_type      0\n",
       "transmission     0\n",
       "owner            0\n",
       "mileage          0\n",
       "engine           0\n",
       "max_power        0\n",
       "seats            0\n",
       "dtype: int64"
      ]
     },
     "execution_count": 23,
     "metadata": {},
     "output_type": "execute_result"
    }
   ],
   "source": [
    "df_test.isna().sum()"
   ]
  },
  {
   "cell_type": "markdown",
   "metadata": {
    "id": "RuKxfXCaXeHr"
   },
   "source": [
    "\n",
    "(0.1 балла) Теперь, когда не осталось пропусков, можно <font color='#9933CC'>преобразовать столбцы к более подходящим типам (``engnine`` и ``seats`` к int)\n",
    "</font>\n",
    "\n",
    "Ниже ответьте, <font color='#FF6600'>почему (хоть мы этого и не делаем) ``seats``, возможно, лучше сделать переменной категориальной, а не целочисленной.</font>"
   ]
  },
  {
   "cell_type": "markdown",
   "metadata": {
    "colab": {
     "base_uri": "https://localhost:8080/"
    },
    "id": "gVi9BPC-YLMi",
    "outputId": "aa889364-c725-4fd2-8551-4b5d2086ad4b"
   },
   "source": [
    "Если применить метод unique() к столбцу 'seats', то можно увидеть что возможны всего 9 различных значений в диапазоне от 2 до 14. Если относиться к данному признаку как к числовому, то при передачи их в модели признаки одних объектов будут входить с коэффициенто на порядок больше, чем у других, т.е. возникает некоторое \"необоснованное\" выделение некоторых объектов по данному признаку. Что в конечном итоге может отразиться на точности предсказаний модели. "
   ]
  },
  {
   "cell_type": "code",
   "execution_count": 24,
   "metadata": {
    "id": "kYKWyjsLYQuz"
   },
   "outputs": [],
   "source": [
    "df_train['engine'] = df_train['engine'].apply(int)\n",
    "df_test['engine'] = df_test['engine'].apply(int)\n",
    "\n",
    "df_train['seats'] = df_train['seats'].apply(int)\n",
    "df_test['seats'] = df_test['seats'].apply(int)"
   ]
  },
  {
   "cell_type": "markdown",
   "metadata": {
    "id": "OmV784QWZOpO"
   },
   "source": [
    "## Визуализации (1 балл + 0.5)"
   ]
  },
  {
   "cell_type": "markdown",
   "metadata": {
    "id": "6p2L60ngZueT"
   },
   "source": [
    "Визуализировать нам надо не так уж и много. Во-первых, хотелось бы, в принципе, увидеть как распределены значения признаков. Также хотелось бы понять, насколько признаки скоррелированы между собой и с целевой переменной. А ещё неплохо бы посмотреть, не оказалось ли так, что тестовые данные распределены иначе, чем трейн.\n",
    "\n",
    "Этим всем и предлагаем вам заняться."
   ]
  },
  {
   "cell_type": "markdown",
   "metadata": {
    "id": "IJpEKkFfaQoC"
   },
   "source": [
    "(0.25 балла) <font color='#9933CC'>Посторойте попарные распределения всех числовых признаков для трейна.</font>\n",
    "\n",
    "> ``sns.paiplot()`` позволяет сделать это в одну строчку"
   ]
  },
  {
   "cell_type": "code",
   "execution_count": 141,
   "metadata": {
    "id": "0car89hFaby1"
   },
   "outputs": [
    {
     "data": {
      "text/plain": [
       "<seaborn.axisgrid.PairGrid at 0x15abb4fb580>"
      ]
     },
     "execution_count": 141,
     "metadata": {},
     "output_type": "execute_result"
    },
    {
     "data": {
      "image/png": "[encoded data removed]",
      "text/plain": [
       "<Figure size 1260x1260 with 56 Axes>"
      ]
     },
     "metadata": {
      "needs_background": "light"
     },
     "output_type": "display_data"
    }
   ],
   "source": [
    "sns.pairplot(df_train)"
   ]
  },
  {
   "cell_type": "markdown",
   "metadata": {
    "id": "Vf4NE1-WboFG"
   },
   "source": [
    "Этот график не такой информативный, как можно было бы построить, беря признаки по отдельности. Но он позволяет сделать некоторые (возможно, далеко идущие) выводы. Впрочем, со многими из них (если не со всеми) вы бы справились умозрительно. Однако всегда приятно делать выводы, основываясь на данных.\n",
    "\n",
    "\n",
    "\n",
    "* <font color='#FF6600'> Что можно сказать о связи предикторов с целевой переменной?\n",
    "* А о корреляциях признаков? </font>"
   ]
  },
  {
   "cell_type": "markdown",
   "metadata": {},
   "source": [
    "По форме, которую принимает группа точек рассматриваемого признака, можно сделать косвенные/приблеженные суждения о зависимости данных признаков от цены. К примеру, если посмотреть на график зависимости 'selling_price' от 'year', то можно предположить наличие нелинейное зависимости между признаками. Или, к примеру, признак 'max_power', который немного \"вытянут\" вдоль диагональной линии, что позволяет судить о прямой зависимости значения целевой переменной от значения данного признака (но это в среднем, т.к. каждый случай уникален и в итоге значение целевой переменной складывается из многих факторов)."
   ]
  },
  {
   "cell_type": "markdown",
   "metadata": {},
   "source": [
    "Также на графиках видно малое число точек, которые находятся \"далеко\" от основной группы, что может означать наличие выбросов в датасете."
   ]
  },
  {
   "cell_type": "code",
   "execution_count": 144,
   "metadata": {},
   "outputs": [
    {
     "data": {
      "text/html": [
       "<div>\n",
       "<style scoped>\n",
       "    .dataframe tbody tr th:only-of-type {\n",
       "        vertical-align: middle;\n",
       "    }\n",
       "\n",
       "    .dataframe tbody tr th {\n",
       "        vertical-align: top;\n",
       "    }\n",
       "\n",
       "    .dataframe thead th {\n",
       "        text-align: right;\n",
       "    }\n",
       "</style>\n",
       "<table border=\"1\" class=\"dataframe\">\n",
       "  <thead>\n",
       "    <tr style=\"text-align: right;\">\n",
       "      <th></th>\n",
       "      <th>year</th>\n",
       "      <th>selling_price</th>\n",
       "      <th>km_driven</th>\n",
       "      <th>mileage</th>\n",
       "      <th>engine</th>\n",
       "      <th>max_power</th>\n",
       "      <th>seats</th>\n",
       "    </tr>\n",
       "  </thead>\n",
       "  <tbody>\n",
       "    <tr>\n",
       "      <th>year</th>\n",
       "      <td>1.000000</td>\n",
       "      <td>0.427279</td>\n",
       "      <td>-0.368966</td>\n",
       "      <td>0.340613</td>\n",
       "      <td>0.002819</td>\n",
       "      <td>0.147373</td>\n",
       "      <td>0.041178</td>\n",
       "    </tr>\n",
       "    <tr>\n",
       "      <th>selling_price</th>\n",
       "      <td>0.427279</td>\n",
       "      <td>1.000000</td>\n",
       "      <td>-0.164828</td>\n",
       "      <td>-0.105036</td>\n",
       "      <td>0.447672</td>\n",
       "      <td>0.689745</td>\n",
       "      <td>0.149953</td>\n",
       "    </tr>\n",
       "    <tr>\n",
       "      <th>km_driven</th>\n",
       "      <td>-0.368966</td>\n",
       "      <td>-0.164828</td>\n",
       "      <td>1.000000</td>\n",
       "      <td>-0.181948</td>\n",
       "      <td>0.229766</td>\n",
       "      <td>0.026444</td>\n",
       "      <td>0.192328</td>\n",
       "    </tr>\n",
       "    <tr>\n",
       "      <th>mileage</th>\n",
       "      <td>0.340613</td>\n",
       "      <td>-0.105036</td>\n",
       "      <td>-0.181948</td>\n",
       "      <td>1.000000</td>\n",
       "      <td>-0.573075</td>\n",
       "      <td>-0.373802</td>\n",
       "      <td>-0.451269</td>\n",
       "    </tr>\n",
       "    <tr>\n",
       "      <th>engine</th>\n",
       "      <td>0.002819</td>\n",
       "      <td>0.447672</td>\n",
       "      <td>0.229766</td>\n",
       "      <td>-0.573075</td>\n",
       "      <td>1.000000</td>\n",
       "      <td>0.679167</td>\n",
       "      <td>0.652172</td>\n",
       "    </tr>\n",
       "    <tr>\n",
       "      <th>max_power</th>\n",
       "      <td>0.147373</td>\n",
       "      <td>0.689745</td>\n",
       "      <td>0.026444</td>\n",
       "      <td>-0.373802</td>\n",
       "      <td>0.679167</td>\n",
       "      <td>1.000000</td>\n",
       "      <td>0.241659</td>\n",
       "    </tr>\n",
       "    <tr>\n",
       "      <th>seats</th>\n",
       "      <td>0.041178</td>\n",
       "      <td>0.149953</td>\n",
       "      <td>0.192328</td>\n",
       "      <td>-0.451269</td>\n",
       "      <td>0.652172</td>\n",
       "      <td>0.241659</td>\n",
       "      <td>1.000000</td>\n",
       "    </tr>\n",
       "  </tbody>\n",
       "</table>\n",
       "</div>"
      ],
      "text/plain": [
       "                   year  selling_price  km_driven   mileage    engine  \\\n",
       "year           1.000000       0.427279  -0.368966  0.340613  0.002819   \n",
       "selling_price  0.427279       1.000000  -0.164828 -0.105036  0.447672   \n",
       "km_driven     -0.368966      -0.164828   1.000000 -0.181948  0.229766   \n",
       "mileage        0.340613      -0.105036  -0.181948  1.000000 -0.573075   \n",
       "engine         0.002819       0.447672   0.229766 -0.573075  1.000000   \n",
       "max_power      0.147373       0.689745   0.026444 -0.373802  0.679167   \n",
       "seats          0.041178       0.149953   0.192328 -0.451269  0.652172   \n",
       "\n",
       "               max_power     seats  \n",
       "year            0.147373  0.041178  \n",
       "selling_price   0.689745  0.149953  \n",
       "km_driven       0.026444  0.192328  \n",
       "mileage        -0.373802 -0.451269  \n",
       "engine          0.679167  0.652172  \n",
       "max_power       1.000000  0.241659  \n",
       "seats           0.241659  1.000000  "
      ]
     },
     "execution_count": 144,
     "metadata": {},
     "output_type": "execute_result"
    }
   ],
   "source": [
    "df_train.corr()"
   ]
  },
  {
   "cell_type": "markdown",
   "metadata": {},
   "source": [
    "Сильно скоррелированных признаков (для которых корреляция близка к 1), не наблюдается, но опредленная зависимость между признаками имеется. К примеру, примечательна зависимость 'max_power' от величины 'engine'."
   ]
  },
  {
   "cell_type": "markdown",
   "metadata": {
    "id": "m0Y8VOCceH_3"
   },
   "source": [
    "(0.25 балла) <font color='#9933CC'>Постройте pairplot по тестовым данным</font> и ответьте на вопрос <font color='#FF6600'>\"Похожими ли оказались совокупности при разделении на трейн и тест?\"</font>"
   ]
  },
  {
   "cell_type": "markdown",
   "metadata": {},
   "source": [
    "Метод pairplot() информативен, так ка масштаб графиков мал, также в трейн датасета присутствуют выбросы, что приводит к различному масштабу графиков на трейне и тесте. Поэтому принято решения отрисовать отдельно графики каждого числового признака для трейна и теста.  "
   ]
  },
  {
   "cell_type": "code",
   "execution_count": 183,
   "metadata": {},
   "outputs": [
    {
     "data": {
      "text/plain": [
       "(1994.0, 2021.0)"
      ]
     },
     "execution_count": 183,
     "metadata": {},
     "output_type": "execute_result"
    },
    {
     "data": {
      "image/png": "[encoded data removed]",
      "text/plain": [
       "<Figure size 1152x432 with 2 Axes>"
      ]
     },
     "metadata": {},
     "output_type": "display_data"
    }
   ],
   "source": [
    "feature = 'year'\n",
    "fig = plt.figure(figsize=(16,6))\n",
    "ax1 = fig.add_subplot(121)\n",
    "ax2 = fig.add_subplot(122)\n",
    "\n",
    "ax1.scatter(df_train['selling_price'], df_train[feature])\n",
    "ax2.scatter(df_test['selling_price'], df_test[feature])\n",
    "\n",
    "ax1.set_ylabel(feature)\n",
    "ax2.set_ylabel(feature)\n",
    "\n",
    "ax1.set_ylim(1994, 2021)\n",
    "ax2.set_ylim(1994, 2021)"
   ]
  },
  {
   "cell_type": "code",
   "execution_count": 187,
   "metadata": {},
   "outputs": [
    {
     "data": {
      "text/plain": [
       "(0.0, 400000.0)"
      ]
     },
     "execution_count": 187,
     "metadata": {},
     "output_type": "execute_result"
    },
    {
     "data": {
      "image/png": "[encoded data removed]",
      "text/plain": [
       "<Figure size 1152x432 with 2 Axes>"
      ]
     },
     "metadata": {},
     "output_type": "display_data"
    }
   ],
   "source": [
    "feature = 'km_driven'\n",
    "fig = plt.figure(figsize=(16,6))\n",
    "ax1 = fig.add_subplot(121)\n",
    "ax2 = fig.add_subplot(122)\n",
    "\n",
    "ax1.scatter(df_train['selling_price'], df_train[feature])\n",
    "ax2.scatter(df_test['selling_price'], df_test[feature])\n",
    "\n",
    "ax1.set_ylabel(feature)\n",
    "ax2.set_ylabel(feature)\n",
    "\n",
    "ax1.set_ylim(0, 400000)\n",
    "ax2.set_ylim(0, 400000)"
   ]
  },
  {
   "cell_type": "code",
   "execution_count": 190,
   "metadata": {},
   "outputs": [
    {
     "data": {
      "text/plain": [
       "(0.0, 30.0)"
      ]
     },
     "execution_count": 190,
     "metadata": {},
     "output_type": "execute_result"
    },
    {
     "data": {
      "image/png": "[encoded data removed]",
      "text/plain": [
       "<Figure size 1152x432 with 2 Axes>"
      ]
     },
     "metadata": {},
     "output_type": "display_data"
    }
   ],
   "source": [
    "feature = 'mileage'\n",
    "fig = plt.figure(figsize=(16,6))\n",
    "ax1 = fig.add_subplot(121)\n",
    "ax2 = fig.add_subplot(122)\n",
    "\n",
    "ax1.scatter(df_train['selling_price'], df_train[feature])\n",
    "ax2.scatter(df_test['selling_price'], df_test[feature])\n",
    "\n",
    "ax1.set_ylabel(feature)\n",
    "ax2.set_ylabel(feature)\n",
    "\n",
    "ax1.set_ylim(0, 30)\n",
    "ax2.set_ylim(0, 30)"
   ]
  },
  {
   "cell_type": "code",
   "execution_count": 191,
   "metadata": {},
   "outputs": [
    {
     "data": {
      "text/plain": [
       "Text(0, 0.5, 'engine')"
      ]
     },
     "execution_count": 191,
     "metadata": {},
     "output_type": "execute_result"
    },
    {
     "data": {
      "image/png": "[encoded data removed]",
      "text/plain": [
       "<Figure size 1152x432 with 2 Axes>"
      ]
     },
     "metadata": {},
     "output_type": "display_data"
    }
   ],
   "source": [
    "feature = 'engine'\n",
    "fig = plt.figure(figsize=(16,6))\n",
    "ax1 = fig.add_subplot(121)\n",
    "ax2 = fig.add_subplot(122)\n",
    "\n",
    "ax1.scatter(df_train['selling_price'], df_train[feature])\n",
    "ax2.scatter(df_test['selling_price'], df_test[feature])\n",
    "\n",
    "ax1.set_ylabel(feature)\n",
    "ax2.set_ylabel(feature)"
   ]
  },
  {
   "cell_type": "code",
   "execution_count": 194,
   "metadata": {},
   "outputs": [
    {
     "data": {
      "text/plain": [
       "(0.0, 300.0)"
      ]
     },
     "execution_count": 194,
     "metadata": {},
     "output_type": "execute_result"
    },
    {
     "data": {
      "image/png": "[encoded data removed]",
      "text/plain": [
       "<Figure size 1152x432 with 2 Axes>"
      ]
     },
     "metadata": {},
     "output_type": "display_data"
    }
   ],
   "source": [
    "feature = 'max_power'\n",
    "fig = plt.figure(figsize=(16,6))\n",
    "ax1 = fig.add_subplot(121)\n",
    "ax2 = fig.add_subplot(122)\n",
    "\n",
    "ax1.scatter(df_train['selling_price'], df_train[feature])\n",
    "ax2.scatter(df_test['selling_price'], df_test[feature])\n",
    "\n",
    "ax1.set_ylabel(feature)\n",
    "ax2.set_ylabel(feature)\n",
    "\n",
    "ax1.set_ylim(0, 300)\n",
    "ax1.set_xlim(0, 6000000)\n",
    "ax2.set_ylim(0, 300)"
   ]
  },
  {
   "cell_type": "code",
   "execution_count": 197,
   "metadata": {},
   "outputs": [
    {
     "data": {
      "text/plain": [
       "(0.0, 15.0)"
      ]
     },
     "execution_count": 197,
     "metadata": {},
     "output_type": "execute_result"
    },
    {
     "data": {
      "image/png": "[encoded data removed]",
      "text/plain": [
       "<Figure size 1152x432 with 2 Axes>"
      ]
     },
     "metadata": {},
     "output_type": "display_data"
    }
   ],
   "source": [
    "feature = 'seats'\n",
    "fig = plt.figure(figsize=(16,6))\n",
    "ax1 = fig.add_subplot(121)\n",
    "ax2 = fig.add_subplot(122)\n",
    "\n",
    "ax1.scatter(df_train['selling_price'], df_train[feature])\n",
    "ax2.scatter(df_test['selling_price'], df_test[feature])\n",
    "\n",
    "ax1.set_ylabel(feature)\n",
    "ax2.set_ylabel(feature)\n",
    "\n",
    "\n",
    "ax1.set_ylim(0, 15)\n",
    "ax2.set_xlim(0, 10000000)\n",
    "ax2.set_ylim(0, 15)"
   ]
  },
  {
   "cell_type": "markdown",
   "metadata": {},
   "source": [
    "После визуального сравнения графиков различных признаков объектов от целевой переменной для трейн и тест датасетов, можно сказать, что полученные совокупности объектов после разделения похожи. Также, ниже, рядом с тепловой картой попарных корреляций для трейн датасета, приведена аналогичная тепловая карта для тест датасета. Их сравнений между собой также говорит о похожасти данных совокупностей."
   ]
  },
  {
   "cell_type": "markdown",
   "metadata": {
    "id": "Gnn7pDcrfEvN"
   },
   "source": [
    "(0.25 балла) <font color='#9933CC'>Для трейна давайте построим тепловую карту (heatmap из библиотеки seaborn) попарных корреляций числовых колонок</font>"
   ]
  },
  {
   "cell_type": "code",
   "execution_count": 198,
   "metadata": {},
   "outputs": [
    {
     "data": {
      "text/plain": [
       "Text(0.5, 1.0, 'Test dataset')"
      ]
     },
     "execution_count": 198,
     "metadata": {},
     "output_type": "execute_result"
    },
    {
     "data": {
      "image/png": "[encoded data removed]",
      "text/plain": [
       "<Figure size 1152x576 with 4 Axes>"
      ]
     },
     "metadata": {},
     "output_type": "display_data"
    }
   ],
   "source": [
    "# рядом, для сравнения, приведена тепловая карта для трейн датасета\n",
    "fig = plt.figure(figsize=(16,8))\n",
    "\n",
    "ax1 = fig.add_subplot(121)\n",
    "sns.heatmap(\n",
    "    df_train.drop(['name', 'fuel', 'seller_type', 'transmission', 'owner'], axis=1).corr(),        \n",
    "    cmap='RdBu_r', \n",
    "    annot=True,\n",
    "    vmin=-1, vmax=1);\n",
    "ax1.set_title('Train Dataset')\n",
    "\n",
    "ax2 = fig.add_subplot(122)\n",
    "sns.heatmap(\n",
    "    df_test.drop(['name', 'fuel', 'seller_type', 'transmission', 'owner'], axis=1).corr(),        \n",
    "    cmap='RdBu_r', \n",
    "    annot=True,\n",
    "    vmin=-1, vmax=1);\n",
    "ax2.set_title('Test dataset')"
   ]
  },
  {
   "cell_type": "markdown",
   "metadata": {
    "id": "w24a_oXqf12H"
   },
   "source": [
    "Ответьте, пожалуйста, на вопросы: \n",
    "* <font color='#FF6600'>Какие 2 признака наименее скоррелированы между собой?</font>\n",
    "* <font color='#FF6600'>Между какими наблюдается довольно сильная положительная линейная зависимость?</font>\n",
    "* <font color='#FF6600'>Правильно ли, опираясь на данные, утверждать, что чем меньше год, тем, скорее всего, больше километров проехала машина к дате продажи.</font>"
   ]
  },
  {
   "cell_type": "markdown",
   "metadata": {},
   "source": [
    "- Наименьшую корреляюци в трейн датасете имеют признаки - engine и year;\n",
    "- сильная положительная зависимость выражается в близком к единице положительном значении корреляции для двух признаков; из анализа тепловой карты можно выделить три пары признаков, с практически одинаковыми значениями коэф. корреляции - (max_power, selling_price), (max_power, engine) и (max_power, seats);\n",
    "- Скорее всего да, правильно. Корреляция отрицательна, что говорит об обратной зависимости, а также не очень мала по абсолютному значению."
   ]
  },
  {
   "cell_type": "markdown",
   "metadata": {
    "id": "DZXV-FI9lO5V"
   },
   "source": [
    "(0.25 балла) <font color='#9933CC'> Отобразите диаграммe рассеяния для наиболее скореллированной пары **признаков** (на трейне) </font>"
   ]
  },
  {
   "cell_type": "code",
   "execution_count": 203,
   "metadata": {
    "id": "6RtM_zkDlON9"
   },
   "outputs": [
    {
     "data": {
      "text/plain": [
       "<AxesSubplot:xlabel='selling_price', ylabel='max_power'>"
      ]
     },
     "execution_count": 203,
     "metadata": {},
     "output_type": "execute_result"
    },
    {
     "data": {
      "image/png": "[encoded data removed]",
      "text/plain": [
       "<Figure size 1152x576 with 1 Axes>"
      ]
     },
     "metadata": {},
     "output_type": "display_data"
    }
   ],
   "source": [
    "# наиболее скор. признаки - max-power и selling_price\n",
    "fig = plt.figure(figsize=(16,8))\n",
    "sns.scatterplot(data=df_train,\n",
    "               x='selling_price',\n",
    "               y='max_power',\n",
    "               hue='fuel')"
   ]
  },
  {
   "cell_type": "markdown",
   "metadata": {
    "id": "ru1In410pieq"
   },
   "source": [
    "### Дополнительные визуализации (бонус 0.5 балла)\n",
    "\n",
    "Если вам кажется, что мы не попросили вас нарисовать какие-то очень важные зависимости, нарисуйте их и поясните."
   ]
  },
  {
   "cell_type": "code",
   "execution_count": null,
   "metadata": {
    "id": "HwlwJhDIp_2L"
   },
   "outputs": [],
   "source": [
    "# your code here"
   ]
  },
  {
   "cell_type": "markdown",
   "metadata": {
    "id": "uS2CQ1LzrP_U"
   },
   "source": [
    "# Часть 2 (1.25 балла) | Модель только на вещественных признаках"
   ]
  },
  {
   "cell_type": "markdown",
   "metadata": {
    "id": "EPDwkjMPg3Lg"
   },
   "source": [
    "(0.05 балла) <font color='#9933CC'>В переменные ``y_train`` и ``y_test`` запишите значения целевых переменных. Столбцы ``selling_price`` из датафреймов необходимо удалить. Категориальные (все, кроме ``seats``) столбцы тоже.</font>"
   ]
  },
  {
   "cell_type": "code",
   "execution_count": 25,
   "metadata": {
    "id": "cGxjJSSUg2na"
   },
   "outputs": [],
   "source": [
    "y_train = df_train['selling_price']\n",
    "X_train = df_train.drop(['name', 'selling_price', 'fuel', 'seller_type', 'transmission', 'owner'], axis=1)"
   ]
  },
  {
   "cell_type": "code",
   "execution_count": 26,
   "metadata": {
    "id": "fyMyARKem5wl"
   },
   "outputs": [],
   "source": [
    "assert X_train.shape == (5840, 6)"
   ]
  },
  {
   "cell_type": "code",
   "execution_count": 27,
   "metadata": {
    "id": "xKRmqiJ5rbSx"
   },
   "outputs": [],
   "source": [
    "y_test = df_test['selling_price']\n",
    "X_test = df_test.drop(['name', 'selling_price', 'fuel', 'seller_type', 'transmission', 'owner'], axis=1)"
   ]
  },
  {
   "cell_type": "code",
   "execution_count": 28,
   "metadata": {
    "id": "-JepTZ36y-h-"
   },
   "outputs": [],
   "source": [
    "assert X_test.shape == (1000, 6)"
   ]
  },
  {
   "cell_type": "markdown",
   "metadata": {
    "id": "_kvtF4gXhwoI"
   },
   "source": [
    "(0.2 балла) <font color='#9933CC'>Обучите классическую линейную регрессию с дефолтными параметрами. Посчтитайте $R^2$ и MSE для трейна и для теста</font>\n",
    "\n",
    "**Замечание:** $R^2$ и MSE для трейна и для теста выводите везде, где требуется обучать модели, даже если в явном виде этого не просят. Иначе непонятно, как понять, насколько успешны наши эксперименты."
   ]
  },
  {
   "cell_type": "code",
   "execution_count": 29,
   "metadata": {
    "id": "hVYXaeTgrb3d"
   },
   "outputs": [],
   "source": [
    "from sklearn.linear_model import LinearRegression\n",
    "from sklearn.metrics import r2_score, mean_squared_error as MSE"
   ]
  },
  {
   "cell_type": "code",
   "execution_count": 30,
   "metadata": {},
   "outputs": [],
   "source": [
    "model = LinearRegression()\n",
    "model.fit(X_train, y_train)\n",
    "\n",
    "pred_train = model.predict(X_train)\n",
    "pred_test = model.predict(X_test)"
   ]
  },
  {
   "cell_type": "code",
   "execution_count": 31,
   "metadata": {},
   "outputs": [
    {
     "name": "stdout",
     "output_type": "stream",
     "text": [
      "MSE train: 116887249752.67693\n",
      "MSE test: 233426792728.43427\n",
      "R2 train: 0.592213482598634\n",
      "R2 test: 0.5939192817775479\n"
     ]
    }
   ],
   "source": [
    "print('MSE train: {}'.format(MSE(y_train, pred_train)))\n",
    "print('MSE test: {}'.format(MSE(y_test, pred_test)))\n",
    "print('R2 train: {}'.format(r2_score(y_train, pred_train)))\n",
    "print('R2 test: {}'.format(r2_score(y_test, pred_test)))"
   ]
  },
  {
   "cell_type": "markdown",
   "metadata": {
    "id": "HpQ8EG2Uk_Dn"
   },
   "source": [
    "Запомните правило:\n",
    "\n",
    "> Использую линейную модель -- стандартизирую фичи\n",
    "\n",
    "(0.25 балла) <font color='#9933CC'>Воспользуемся им</font>\n"
   ]
  },
  {
   "cell_type": "code",
   "execution_count": 32,
   "metadata": {
    "id": "o6FB80C2rciK"
   },
   "outputs": [],
   "source": [
    "from sklearn.preprocessing import StandardScaler\n",
    "\n",
    "sc = StandardScaler()\n",
    "sc.fit(X_train)\n",
    "X_train_sc = pd.DataFrame(sc.transform(X_train))\n",
    "X_test_sc = pd.DataFrame(sc.transform(X_test))"
   ]
  },
  {
   "cell_type": "code",
   "execution_count": 33,
   "metadata": {},
   "outputs": [],
   "source": [
    "model1 = LinearRegression()\n",
    "model1.fit(X_train_sc, y_train)\n",
    "\n",
    "pred_train = model1.predict(X_train_sc)\n",
    "pred_test = model1.predict(X_test_sc)"
   ]
  },
  {
   "cell_type": "code",
   "execution_count": 34,
   "metadata": {},
   "outputs": [
    {
     "name": "stdout",
     "output_type": "stream",
     "text": [
      "MSE train: 116887249752.67683\n",
      "MSE test: 233426792728.4279\n",
      "R2 train: 0.5922134825986344\n",
      "R2 test: 0.5939192817775589\n"
     ]
    }
   ],
   "source": [
    "print('MSE train: {}'.format(MSE(y_train, pred_train)))\n",
    "print('MSE test: {}'.format(MSE(y_test, pred_test)))\n",
    "print('R2 train: {}'.format(r2_score(y_train, pred_train)))\n",
    "print('R2 test: {}'.format(r2_score(y_test, pred_test)))"
   ]
  },
  {
   "cell_type": "markdown",
   "metadata": {
    "id": "oQZi8LYVmiPv"
   },
   "source": [
    "Не очень результативно.\n",
    "\n",
    "Зато уже сейчас можем интерпретировать модель. <font color='#FF6600'>\"Какой признак оказался наиболее информативным в предсказании цены?\"</font>"
   ]
  },
  {
   "cell_type": "code",
   "execution_count": 35,
   "metadata": {
    "id": "u9onBNrhmt1r"
   },
   "outputs": [
    {
     "data": {
      "text/plain": [
       "array([156782.07415501, -43705.02701583,  27520.3425299 ,  62640.1828329 ,\n",
       "       320807.85210873, -23726.53088336])"
      ]
     },
     "execution_count": 35,
     "metadata": {},
     "output_type": "execute_result"
    }
   ],
   "source": [
    "model1.coef_"
   ]
  },
  {
   "cell_type": "markdown",
   "metadata": {},
   "source": [
    "Признак с порядковым номером 4 оказался наиболее информативным, как имеющий наибольнее по модулю значение веса. Это признак 'engine'."
   ]
  },
  {
   "cell_type": "markdown",
   "metadata": {
    "id": "My5nSSASntjA"
   },
   "source": [
    "(0.25 балла) <font color='#9933CC'>Теперь попробуем Lasso-регрессию.</font> Здесь и дальше обучайте модели на нормализованных признаках"
   ]
  },
  {
   "cell_type": "code",
   "execution_count": 36,
   "metadata": {
    "id": "yhR5eajPn0kl"
   },
   "outputs": [],
   "source": [
    "from sklearn.linear_model import Lasso\n",
    "\n",
    "model3 = Lasso()\n",
    "model3.fit(X_train_sc, y_train)\n",
    "\n",
    "pred_train = model3.predict(X_train_sc)\n",
    "pred_test = model3.predict(X_test_sc)"
   ]
  },
  {
   "cell_type": "code",
   "execution_count": 37,
   "metadata": {},
   "outputs": [
    {
     "name": "stdout",
     "output_type": "stream",
     "text": [
      "MSE train: 116887249762.83484\n",
      "MSE test: 233427465844.43552\n",
      "R2 train: 0.592213482563196\n",
      "R2 test: 0.5939181107918781\n"
     ]
    }
   ],
   "source": [
    "print('MSE train: {}'.format(MSE(y_train, pred_train)))\n",
    "print('MSE test: {}'.format(MSE(y_test, pred_test)))\n",
    "print('R2 train: {}'.format(r2_score(y_train, pred_train)))\n",
    "print('R2 test: {}'.format(r2_score(y_test, pred_test)))"
   ]
  },
  {
   "cell_type": "markdown",
   "metadata": {
    "id": "cIbnMp-So7CP"
   },
   "source": [
    "<font color='#FF6600'>Занулила ли L1-регуляризация с параметрами по умолчанию какие-нибудь веса? Почему же?</font>"
   ]
  },
  {
   "cell_type": "code",
   "execution_count": 38,
   "metadata": {},
   "outputs": [
    {
     "data": {
      "text/plain": [
       "array([156781.90819771, -43703.89475971,  27518.44760775,  62635.34816962,\n",
       "       320808.72293948, -23723.65434449])"
      ]
     },
     "execution_count": 38,
     "metadata": {},
     "output_type": "execute_result"
    }
   ],
   "source": [
    "model3.coef_"
   ]
  },
  {
   "cell_type": "markdown",
   "metadata": {
    "id": "EBJKIp6FouYw"
   },
   "source": [
    "Не занулила. Причина может быть в том, что выбранный по умолчанию параметр alpha для Lasso слишком мал. Но в теории, L1 регуляризация не обязана всегда занулять веса, все зависит от данных."
   ]
  },
  {
   "cell_type": "markdown",
   "metadata": {
    "id": "YYWLInilqQTE"
   },
   "source": [
    "(0.25 балла) <font color='#9933CC'>Перебором по сетке (c 10-ю фолдами) подберите оптимальные параметры для Lasso-регрессии</font>\n",
    "\n",
    "Вам пригодится класс [GridSearchCV](https://scikit-learn.org/stable/modules/generated/sklearn.model_selection.GridSearchCV.html)."
   ]
  },
  {
   "cell_type": "code",
   "execution_count": 39,
   "metadata": {
    "id": "mdGQ6CvApr_P"
   },
   "outputs": [],
   "source": [
    "from sklearn.model_selection import GridSearchCV"
   ]
  },
  {
   "cell_type": "code",
   "execution_count": 40,
   "metadata": {},
   "outputs": [],
   "source": [
    "model4 = Lasso()\n",
    "parameters = {'alpha':list(range(20000, 30001, 10))}\n",
    "grid = GridSearchCV(model4, parameters, cv=10)"
   ]
  },
  {
   "cell_type": "code",
   "execution_count": 41,
   "metadata": {},
   "outputs": [
    {
     "data": {
      "text/plain": [
       "GridSearchCV(cv=10, estimator=Lasso(),\n",
       "             param_grid={'alpha': [20000, 20010, 20020, 20030, 20040, 20050,\n",
       "                                   20060, 20070, 20080, 20090, 20100, 20110,\n",
       "                                   20120, 20130, 20140, 20150, 20160, 20170,\n",
       "                                   20180, 20190, 20200, 20210, 20220, 20230,\n",
       "                                   20240, 20250, 20260, 20270, 20280, 20290, ...]})"
      ]
     },
     "execution_count": 41,
     "metadata": {},
     "output_type": "execute_result"
    }
   ],
   "source": [
    "grid.fit(X_train_sc, y_train)"
   ]
  },
  {
   "cell_type": "markdown",
   "metadata": {
    "id": "rueUl2cSvT5w"
   },
   "source": [
    "<font color='#FF6600'>Сколько грид-сёрчу пришлось обучать моделей?</font>"
   ]
  },
  {
   "cell_type": "markdown",
   "metadata": {},
   "source": [
    "Кол-во моделей, которое обучает GridSearchCV равно числу значений, которое принимает alpha (задается пользователем) * СV(равное 10 в задании)."
   ]
  },
  {
   "cell_type": "markdown",
   "metadata": {
    "id": "0agvlV-tvEQN"
   },
   "source": [
    "<font color='#FF6600'>Какой коэффициент регуляризации у лучшей из перебранных моделей? Занулились ли какие-нибудь из весов при такой регуляризации?</font>"
   ]
  },
  {
   "cell_type": "code",
   "execution_count": 42,
   "metadata": {
    "id": "joyYE2Q5shu5"
   },
   "outputs": [
    {
     "data": {
      "text/plain": [
       "{'alpha': 26640}"
      ]
     },
     "execution_count": 42,
     "metadata": {},
     "output_type": "execute_result"
    }
   ],
   "source": [
    "# перебор значений alpha в диапазоне от 1 до 50000 c шагом 10 дал следующий результат\n",
    "grid.best_params_"
   ]
  },
  {
   "cell_type": "code",
   "execution_count": 43,
   "metadata": {},
   "outputs": [
    {
     "name": "stdout",
     "output_type": "stream",
     "text": [
      "MSE train: 119684535080.24675\n",
      "MSE test: 250489343204.32666\n",
      "R2 train: 0.5824545461507217\n",
      "R2 test: 0.5642364305890896\n"
     ]
    }
   ],
   "source": [
    "model5 = Lasso(alpha=26640)\n",
    "model5.fit(X_train_sc, y_train)\n",
    "\n",
    "pred_train = model5.predict(X_train_sc)\n",
    "pred_test = model5.predict(X_test_sc)\n",
    "print('MSE train: {}'.format(MSE(y_train, pred_train)))\n",
    "print('MSE test: {}'.format(MSE(y_test, pred_test)))\n",
    "print('R2 train: {}'.format(r2_score(y_train, pred_train)))\n",
    "print('R2 test: {}'.format(r2_score(y_test, pred_test)))"
   ]
  },
  {
   "cell_type": "code",
   "execution_count": 44,
   "metadata": {},
   "outputs": [
    {
     "data": {
      "text/plain": [
       "array([149262.38551692, -15023.66945281,      0.        ,      0.        ,\n",
       "       321039.8723696 ,     -0.        ])"
      ]
     },
     "execution_count": 44,
     "metadata": {},
     "output_type": "execute_result"
    }
   ],
   "source": [
    "model5.coef_"
   ]
  },
  {
   "cell_type": "markdown",
   "metadata": {},
   "source": [
    "Занулилось 3 веса. Но и значения метрик немного упали"
   ]
  },
  {
   "cell_type": "markdown",
   "metadata": {
    "id": "VdkkrDE4oeCP"
   },
   "source": [
    "(0.25 балла) <font color='#9933CC'>Перебором по сетке (c 10-ю фолдами) подберите оптимальные параметры для [ElasticNet](https://scikit-learn.org/stable/modules/generated/sklearn.linear_model.ElasticNet.html)-регрессии</font>"
   ]
  },
  {
   "cell_type": "code",
   "execution_count": 45,
   "metadata": {},
   "outputs": [],
   "source": [
    "from sklearn.linear_model import ElasticNet"
   ]
  },
  {
   "cell_type": "code",
   "execution_count": 77,
   "metadata": {
    "id": "F3e5MGZMoeCR"
   },
   "outputs": [
    {
     "data": {
      "text/plain": [
       "GridSearchCV(cv=10, estimator=ElasticNet(),\n",
       "             param_grid={'alpha': [1, 11, 21, 31, 41, 51, 61, 71, 81, 91, 101,\n",
       "                                   111, 121, 131, 141, 151, 161, 171, 181, 191,\n",
       "                                   201, 211, 221, 231, 241, 251, 261, 271, 281,\n",
       "                                   291, ...]})"
      ]
     },
     "execution_count": 77,
     "metadata": {},
     "output_type": "execute_result"
    }
   ],
   "source": [
    "model6 = ElasticNet()\n",
    "parameters = {'alpha': list(range(1, 30001, 10))}\n",
    "grid = GridSearchCV(model6, parameters, cv=10)\n",
    "grid.fit(X_train_sc, y_train)"
   ]
  },
  {
   "cell_type": "code",
   "execution_count": 78,
   "metadata": {},
   "outputs": [
    {
     "data": {
      "text/plain": [
       "{'alpha': 1}"
      ]
     },
     "execution_count": 78,
     "metadata": {},
     "output_type": "execute_result"
    }
   ],
   "source": [
    "grid.best_params_"
   ]
  },
  {
   "cell_type": "markdown",
   "metadata": {},
   "source": [
    "Попробуем искать значения альфа в интервале от 0 до 1"
   ]
  },
  {
   "cell_type": "code",
   "execution_count": 52,
   "metadata": {},
   "outputs": [
    {
     "data": {
      "text/plain": [
       "{'alpha': 0.7, 'l1_ratio': 0.8}"
      ]
     },
     "execution_count": 52,
     "metadata": {},
     "output_type": "execute_result"
    }
   ],
   "source": [
    "model7 = ElasticNet()\n",
    "parameters = {'alpha': [0.1, 0.15, 0.2, 0.25, 0.3, 0.35, 0.4, 0.45, 0.5, 0.55, 0.6, 0.65, 0.7, 0.75, 0.8, 0.85, 0.9],\n",
    "              'l1_ratio': [0.1, 0.2, 0.3, 0.4, 0.5, 0.6, 0.7, 0.8, 0.9]}\n",
    "grid = GridSearchCV(model7, parameters, cv=10)\n",
    "grid.fit(X_train_sc, y_train)\n",
    "grid.best_params_"
   ]
  },
  {
   "cell_type": "code",
   "execution_count": 46,
   "metadata": {},
   "outputs": [
    {
     "name": "stdout",
     "output_type": "stream",
     "text": [
      "MSE train: 118856518283.353\n",
      "MSE test: 250886373207.60233\n",
      "R2 train: 0.5853432622995709\n",
      "R2 test: 0.5635457376870386\n"
     ]
    }
   ],
   "source": [
    "model8 = ElasticNet(alpha=0.7, l1_ratio=0.8)\n",
    "model8.fit(X_train_sc, y_train)\n",
    "pred_train = model8.predict(X_train_sc)\n",
    "pred_test = model8.predict(X_test_sc)\n",
    "print('MSE train: {}'.format(MSE(y_train, pred_train)))\n",
    "print('MSE test: {}'.format(MSE(y_test, pred_test)))\n",
    "print('R2 train: {}'.format(r2_score(y_train, pred_train)))\n",
    "print('R2 test: {}'.format(r2_score(y_test, pred_test)))"
   ]
  },
  {
   "cell_type": "markdown",
   "metadata": {
    "id": "zB0Nrbk6oeCS"
   },
   "source": [
    "<font color='#FF6600'>Какие гиперпараметры соответствуют лучшей из перебранных моделей?</font>"
   ]
  },
  {
   "cell_type": "markdown",
   "metadata": {
    "id": "gIzvY8bToeCS"
   },
   "source": [
    "Коэф. перед L1 регуляризацией а = alpha * l1_ratio = 0.7 * 0.8 = 0.56\n",
    "\n",
    "Коэф. перед L2 регуляризацией b = 0.5 * alpha * (1 - l1_ratio) = 0.5 * 0.7 * 0.2 = 0.07"
   ]
  },
  {
   "cell_type": "markdown",
   "metadata": {
    "id": "5C3IX1-CwHO2"
   },
   "source": [
    "Предлагаем вам оставить вам попытки заметно улучшить качество модели регуляризацией и перейти к следующей части задания."
   ]
  },
  {
   "cell_type": "markdown",
   "metadata": {
    "id": "Y2y-_PCHrevF"
   },
   "source": [
    "# Часть 3 (0.5 балла) | Добавляем категориальные фичи\n",
    "\n"
   ]
  },
  {
   "cell_type": "markdown",
   "metadata": {
    "id": "frLASc5L8Tu5"
   },
   "source": [
    "(0 баллов) <font color='#9933CC'>Из ``df_train`` удалите столбцы с целевой переменной и названием автомобиля.</font>"
   ]
  },
  {
   "cell_type": "code",
   "execution_count": 54,
   "metadata": {},
   "outputs": [
    {
     "data": {
      "text/html": [
       "<div>\n",
       "<style scoped>\n",
       "    .dataframe tbody tr th:only-of-type {\n",
       "        vertical-align: middle;\n",
       "    }\n",
       "\n",
       "    .dataframe tbody tr th {\n",
       "        vertical-align: top;\n",
       "    }\n",
       "\n",
       "    .dataframe thead th {\n",
       "        text-align: right;\n",
       "    }\n",
       "</style>\n",
       "<table border=\"1\" class=\"dataframe\">\n",
       "  <thead>\n",
       "    <tr style=\"text-align: right;\">\n",
       "      <th></th>\n",
       "      <th>year</th>\n",
       "      <th>km_driven</th>\n",
       "      <th>mileage</th>\n",
       "      <th>engine</th>\n",
       "      <th>max_power</th>\n",
       "      <th>seats</th>\n",
       "    </tr>\n",
       "  </thead>\n",
       "  <tbody>\n",
       "    <tr>\n",
       "      <th>0</th>\n",
       "      <td>2014</td>\n",
       "      <td>145500</td>\n",
       "      <td>23.40</td>\n",
       "      <td>1248</td>\n",
       "      <td>74.00</td>\n",
       "      <td>5</td>\n",
       "    </tr>\n",
       "    <tr>\n",
       "      <th>1</th>\n",
       "      <td>2014</td>\n",
       "      <td>120000</td>\n",
       "      <td>21.14</td>\n",
       "      <td>1498</td>\n",
       "      <td>103.52</td>\n",
       "      <td>5</td>\n",
       "    </tr>\n",
       "    <tr>\n",
       "      <th>2</th>\n",
       "      <td>2010</td>\n",
       "      <td>127000</td>\n",
       "      <td>23.00</td>\n",
       "      <td>1396</td>\n",
       "      <td>90.00</td>\n",
       "      <td>5</td>\n",
       "    </tr>\n",
       "    <tr>\n",
       "      <th>3</th>\n",
       "      <td>2007</td>\n",
       "      <td>120000</td>\n",
       "      <td>16.10</td>\n",
       "      <td>1298</td>\n",
       "      <td>88.20</td>\n",
       "      <td>5</td>\n",
       "    </tr>\n",
       "    <tr>\n",
       "      <th>4</th>\n",
       "      <td>2017</td>\n",
       "      <td>45000</td>\n",
       "      <td>20.14</td>\n",
       "      <td>1197</td>\n",
       "      <td>81.86</td>\n",
       "      <td>5</td>\n",
       "    </tr>\n",
       "    <tr>\n",
       "      <th>...</th>\n",
       "      <td>...</td>\n",
       "      <td>...</td>\n",
       "      <td>...</td>\n",
       "      <td>...</td>\n",
       "      <td>...</td>\n",
       "      <td>...</td>\n",
       "    </tr>\n",
       "    <tr>\n",
       "      <th>5835</th>\n",
       "      <td>2008</td>\n",
       "      <td>191000</td>\n",
       "      <td>17.92</td>\n",
       "      <td>1086</td>\n",
       "      <td>62.10</td>\n",
       "      <td>5</td>\n",
       "    </tr>\n",
       "    <tr>\n",
       "      <th>5836</th>\n",
       "      <td>2013</td>\n",
       "      <td>50000</td>\n",
       "      <td>18.90</td>\n",
       "      <td>998</td>\n",
       "      <td>67.10</td>\n",
       "      <td>5</td>\n",
       "    </tr>\n",
       "    <tr>\n",
       "      <th>5837</th>\n",
       "      <td>2013</td>\n",
       "      <td>110000</td>\n",
       "      <td>18.50</td>\n",
       "      <td>1197</td>\n",
       "      <td>82.85</td>\n",
       "      <td>5</td>\n",
       "    </tr>\n",
       "    <tr>\n",
       "      <th>5838</th>\n",
       "      <td>2007</td>\n",
       "      <td>119000</td>\n",
       "      <td>16.80</td>\n",
       "      <td>1493</td>\n",
       "      <td>110.00</td>\n",
       "      <td>5</td>\n",
       "    </tr>\n",
       "    <tr>\n",
       "      <th>5839</th>\n",
       "      <td>2009</td>\n",
       "      <td>120000</td>\n",
       "      <td>19.30</td>\n",
       "      <td>1248</td>\n",
       "      <td>73.90</td>\n",
       "      <td>5</td>\n",
       "    </tr>\n",
       "  </tbody>\n",
       "</table>\n",
       "<p>5840 rows × 6 columns</p>\n",
       "</div>"
      ],
      "text/plain": [
       "      year  km_driven  mileage  engine  max_power  seats\n",
       "0     2014     145500    23.40    1248      74.00      5\n",
       "1     2014     120000    21.14    1498     103.52      5\n",
       "2     2010     127000    23.00    1396      90.00      5\n",
       "3     2007     120000    16.10    1298      88.20      5\n",
       "4     2017      45000    20.14    1197      81.86      5\n",
       "...    ...        ...      ...     ...        ...    ...\n",
       "5835  2008     191000    17.92    1086      62.10      5\n",
       "5836  2013      50000    18.90     998      67.10      5\n",
       "5837  2013     110000    18.50    1197      82.85      5\n",
       "5838  2007     119000    16.80    1493     110.00      5\n",
       "5839  2009     120000    19.30    1248      73.90      5\n",
       "\n",
       "[5840 rows x 6 columns]"
      ]
     },
     "execution_count": 54,
     "metadata": {},
     "output_type": "execute_result"
    }
   ],
   "source": [
    "X_train"
   ]
  },
  {
   "cell_type": "code",
   "execution_count": 83,
   "metadata": {
    "id": "jsXiFjaFrng-"
   },
   "outputs": [],
   "source": [
    "# возьмем столбцы с вещественными признаками из X_train, т.к. в нем они уже масштабированы и добавим необходимые \n",
    "# категориальные переменные\n",
    "X_train_cat = X_train_sc.copy(deep=True).drop([5], axis=1)\n",
    "X_train_cat.columns = ['year', 'km_driven', 'mileage', 'engine', 'max_power']\n",
    "X_train_cat.insert(5, 'fuel', df_train['fuel'])\n",
    "X_train_cat.insert(6, 'seller_type', df_train['seller_type'])\n",
    "X_train_cat.insert(7, 'transmission', df_train['transmission'])\n",
    "X_train_cat.insert(8, 'owner', df_train['owner'])\n",
    "X_train_cat.insert(9, 'seats', df_train['seats'])"
   ]
  },
  {
   "cell_type": "code",
   "execution_count": 57,
   "metadata": {},
   "outputs": [
    {
     "data": {
      "text/html": [
       "<div>\n",
       "<style scoped>\n",
       "    .dataframe tbody tr th:only-of-type {\n",
       "        vertical-align: middle;\n",
       "    }\n",
       "\n",
       "    .dataframe tbody tr th {\n",
       "        vertical-align: top;\n",
       "    }\n",
       "\n",
       "    .dataframe thead th {\n",
       "        text-align: right;\n",
       "    }\n",
       "</style>\n",
       "<table border=\"1\" class=\"dataframe\">\n",
       "  <thead>\n",
       "    <tr style=\"text-align: right;\">\n",
       "      <th></th>\n",
       "      <th>year</th>\n",
       "      <th>km_driven</th>\n",
       "      <th>mileage</th>\n",
       "      <th>engine</th>\n",
       "      <th>max_power</th>\n",
       "      <th>fuel</th>\n",
       "      <th>seller_type</th>\n",
       "      <th>transmission</th>\n",
       "      <th>owner</th>\n",
       "      <th>seats</th>\n",
       "    </tr>\n",
       "  </thead>\n",
       "  <tbody>\n",
       "    <tr>\n",
       "      <th>0</th>\n",
       "      <td>0.13957</td>\n",
       "      <td>1.191152</td>\n",
       "      <td>0.995391</td>\n",
       "      <td>-0.373643</td>\n",
       "      <td>-0.44603</td>\n",
       "      <td>Diesel</td>\n",
       "      <td>Individual</td>\n",
       "      <td>Manual</td>\n",
       "      <td>First Owner</td>\n",
       "      <td>5</td>\n",
       "    </tr>\n",
       "  </tbody>\n",
       "</table>\n",
       "</div>"
      ],
      "text/plain": [
       "      year  km_driven   mileage    engine  max_power    fuel seller_type  \\\n",
       "0  0.13957   1.191152  0.995391 -0.373643   -0.44603  Diesel  Individual   \n",
       "\n",
       "  transmission        owner  seats  \n",
       "0       Manual  First Owner      5  "
      ]
     },
     "execution_count": 57,
     "metadata": {},
     "output_type": "execute_result"
    }
   ],
   "source": [
    "X_train_cat.head(1)"
   ]
  },
  {
   "cell_type": "code",
   "execution_count": 58,
   "metadata": {
    "id": "SqDhrd6Q8k-S"
   },
   "outputs": [],
   "source": [
    "assert X_train_cat.shape == (5840, 10)"
   ]
  },
  {
   "cell_type": "code",
   "execution_count": 162,
   "metadata": {
    "id": "JyGl7KQQx_Ax"
   },
   "outputs": [
    {
     "data": {
      "text/html": [
       "<div>\n",
       "<style scoped>\n",
       "    .dataframe tbody tr th:only-of-type {\n",
       "        vertical-align: middle;\n",
       "    }\n",
       "\n",
       "    .dataframe tbody tr th {\n",
       "        vertical-align: top;\n",
       "    }\n",
       "\n",
       "    .dataframe thead th {\n",
       "        text-align: right;\n",
       "    }\n",
       "</style>\n",
       "<table border=\"1\" class=\"dataframe\">\n",
       "  <thead>\n",
       "    <tr style=\"text-align: right;\">\n",
       "      <th></th>\n",
       "      <th>fuel</th>\n",
       "      <th>seller_type</th>\n",
       "      <th>transmission</th>\n",
       "      <th>owner</th>\n",
       "    </tr>\n",
       "  </thead>\n",
       "  <tbody>\n",
       "    <tr>\n",
       "      <th>count</th>\n",
       "      <td>5840</td>\n",
       "      <td>5840</td>\n",
       "      <td>5840</td>\n",
       "      <td>5840</td>\n",
       "    </tr>\n",
       "    <tr>\n",
       "      <th>unique</th>\n",
       "      <td>4</td>\n",
       "      <td>3</td>\n",
       "      <td>2</td>\n",
       "      <td>5</td>\n",
       "    </tr>\n",
       "    <tr>\n",
       "      <th>top</th>\n",
       "      <td>Diesel</td>\n",
       "      <td>Individual</td>\n",
       "      <td>Manual</td>\n",
       "      <td>First Owner</td>\n",
       "    </tr>\n",
       "    <tr>\n",
       "      <th>freq</th>\n",
       "      <td>3177</td>\n",
       "      <td>5223</td>\n",
       "      <td>5336</td>\n",
       "      <td>3603</td>\n",
       "    </tr>\n",
       "  </tbody>\n",
       "</table>\n",
       "</div>"
      ],
      "text/plain": [
       "          fuel seller_type transmission        owner\n",
       "count     5840        5840         5840         5840\n",
       "unique       4           3            2            5\n",
       "top     Diesel  Individual       Manual  First Owner\n",
       "freq      3177        5223         5336         3603"
      ]
     },
     "execution_count": 162,
     "metadata": {},
     "output_type": "execute_result"
    }
   ],
   "source": [
    "X_train_cat.describe(include='object')"
   ]
  },
  {
   "cell_type": "markdown",
   "metadata": {
    "id": "wYxtiDa_81AL"
   },
   "source": [
    "(0.5 балла) <font color='#9933CC'>Закодируйте категориалльные фичи и ``seats`` методом OneHot-кодирования</font>\n",
    "\n",
    "> Обратите внимание, что во избежание мультиколлинеарности следует избавиться от одного из полученных столбцов при кодировании каждого признака методом OneHot. "
   ]
  },
  {
   "cell_type": "code",
   "execution_count": 84,
   "metadata": {
    "id": "wbN4yM2Frob7"
   },
   "outputs": [],
   "source": [
    "#from sklearn.preprocessing import OneHotEncoder \n",
    "X_train_cat = pd.get_dummies(data=X_train_cat, columns=['fuel', 'seller_type', 'transmission', 'owner', 'seats'], drop_first=True)"
   ]
  },
  {
   "cell_type": "code",
   "execution_count": 60,
   "metadata": {},
   "outputs": [
    {
     "data": {
      "text/html": [
       "<div>\n",
       "<style scoped>\n",
       "    .dataframe tbody tr th:only-of-type {\n",
       "        vertical-align: middle;\n",
       "    }\n",
       "\n",
       "    .dataframe tbody tr th {\n",
       "        vertical-align: top;\n",
       "    }\n",
       "\n",
       "    .dataframe thead th {\n",
       "        text-align: right;\n",
       "    }\n",
       "</style>\n",
       "<table border=\"1\" class=\"dataframe\">\n",
       "  <thead>\n",
       "    <tr style=\"text-align: right;\">\n",
       "      <th></th>\n",
       "      <th>year</th>\n",
       "      <th>km_driven</th>\n",
       "      <th>mileage</th>\n",
       "      <th>engine</th>\n",
       "      <th>max_power</th>\n",
       "      <th>fuel_Diesel</th>\n",
       "      <th>fuel_LPG</th>\n",
       "      <th>fuel_Petrol</th>\n",
       "      <th>seller_type_Individual</th>\n",
       "      <th>seller_type_Trustmark Dealer</th>\n",
       "      <th>...</th>\n",
       "      <th>owner_Test Drive Car</th>\n",
       "      <th>owner_Third Owner</th>\n",
       "      <th>seats_4</th>\n",
       "      <th>seats_5</th>\n",
       "      <th>seats_6</th>\n",
       "      <th>seats_7</th>\n",
       "      <th>seats_8</th>\n",
       "      <th>seats_9</th>\n",
       "      <th>seats_10</th>\n",
       "      <th>seats_14</th>\n",
       "    </tr>\n",
       "  </thead>\n",
       "  <tbody>\n",
       "    <tr>\n",
       "      <th>0</th>\n",
       "      <td>0.13957</td>\n",
       "      <td>1.191152</td>\n",
       "      <td>0.995391</td>\n",
       "      <td>-0.373643</td>\n",
       "      <td>-0.44603</td>\n",
       "      <td>1</td>\n",
       "      <td>0</td>\n",
       "      <td>0</td>\n",
       "      <td>1</td>\n",
       "      <td>0</td>\n",
       "      <td>...</td>\n",
       "      <td>0</td>\n",
       "      <td>0</td>\n",
       "      <td>0</td>\n",
       "      <td>1</td>\n",
       "      <td>0</td>\n",
       "      <td>0</td>\n",
       "      <td>0</td>\n",
       "      <td>0</td>\n",
       "      <td>0</td>\n",
       "      <td>0</td>\n",
       "    </tr>\n",
       "  </tbody>\n",
       "</table>\n",
       "<p>1 rows × 23 columns</p>\n",
       "</div>"
      ],
      "text/plain": [
       "      year  km_driven   mileage    engine  max_power  fuel_Diesel  fuel_LPG  \\\n",
       "0  0.13957   1.191152  0.995391 -0.373643   -0.44603            1         0   \n",
       "\n",
       "   fuel_Petrol  seller_type_Individual  seller_type_Trustmark Dealer  ...  \\\n",
       "0            0                       1                             0  ...   \n",
       "\n",
       "   owner_Test Drive Car  owner_Third Owner  seats_4  seats_5  seats_6  \\\n",
       "0                     0                  0        0        1        0   \n",
       "\n",
       "   seats_7  seats_8  seats_9  seats_10  seats_14  \n",
       "0        0        0        0         0         0  \n",
       "\n",
       "[1 rows x 23 columns]"
      ]
     },
     "execution_count": 60,
     "metadata": {},
     "output_type": "execute_result"
    }
   ],
   "source": [
    "X_train_cat.head(1)"
   ]
  },
  {
   "cell_type": "code",
   "execution_count": 74,
   "metadata": {},
   "outputs": [],
   "source": [
    "# аналогично преобразуем категориальные переменные в X_test, чтобы посчитать и сравнить метрики на трейне и тесте\n",
    "X_test_cat = X_test_sc.copy(deep=True).drop([5], axis=1)\n",
    "X_test_cat.columns = ['year', 'km_driven', 'mileage', 'engine', 'max_power']\n",
    "X_test_cat.insert(5, 'fuel', df_test['fuel'])\n",
    "X_test_cat.insert(6, 'seller_type', df_test['seller_type'])\n",
    "X_test_cat.insert(7, 'transmission', df_test['transmission'])\n",
    "X_test_cat.insert(8, 'owner', df_train['owner'])\n",
    "X_test_cat.insert(9, 'seats', df_train['seats'])\n",
    "X_test_cat = pd.get_dummies(data=X_test_cat, columns=['fuel', 'seller_type', 'transmission', 'owner', 'seats'], drop_first=True)"
   ]
  },
  {
   "cell_type": "code",
   "execution_count": 63,
   "metadata": {},
   "outputs": [
    {
     "data": {
      "text/plain": [
       "Index(['year', 'km_driven', 'mileage', 'engine', 'max_power', 'fuel_Diesel',\n",
       "       'fuel_LPG', 'fuel_Petrol', 'seller_type_Individual',\n",
       "       'seller_type_Trustmark Dealer', 'transmission_Manual',\n",
       "       'owner_Fourth & Above Owner', 'owner_Second Owner',\n",
       "       'owner_Test Drive Car', 'owner_Third Owner', 'seats_4', 'seats_5',\n",
       "       'seats_6', 'seats_7', 'seats_8', 'seats_9', 'seats_10', 'seats_14'],\n",
       "      dtype='object')"
      ]
     },
     "execution_count": 63,
     "metadata": {},
     "output_type": "execute_result"
    }
   ],
   "source": [
    "X_train_cat.columns"
   ]
  },
  {
   "cell_type": "code",
   "execution_count": 68,
   "metadata": {},
   "outputs": [
    {
     "data": {
      "text/plain": [
       "Index(['year', 'km_driven', 'mileage', 'engine', 'max_power', 'fuel_Diesel',\n",
       "       'fuel_LPG', 'fuel_Petrol', 'seller_type_Individual',\n",
       "       'seller_type_Trustmark Dealer', 'transmission_Manual',\n",
       "       'owner_Fourth & Above Owner', 'owner_Second Owner', 'owner_Third Owner',\n",
       "       'seats_5', 'seats_6', 'seats_7', 'seats_8', 'seats_9', 'seats_10'],\n",
       "      dtype='object')"
      ]
     },
     "execution_count": 68,
     "metadata": {},
     "output_type": "execute_result"
    }
   ],
   "source": [
    "X_test_cat.columns"
   ]
  },
  {
   "cell_type": "markdown",
   "metadata": {},
   "source": [
    "### В тест датасете параметр seats не принимает ряд значений, которые фигурируют в трейн датасете, добавим аналогичные столбцы, содержащие нули, чтобы соответствовать трейн датасету по количеству признаков."
   ]
  },
  {
   "cell_type": "code",
   "execution_count": 75,
   "metadata": {},
   "outputs": [],
   "source": [
    "X_test_cat.insert(20, 'seats_14', [0] * 1000)\n",
    "X_test_cat.insert(14, 'seats_4', [0] * 1000)\n",
    "X_test_cat.insert(13, 'owner_Test Drive Car', [0] * 1000)"
   ]
  },
  {
   "cell_type": "code",
   "execution_count": 76,
   "metadata": {},
   "outputs": [
    {
     "data": {
      "text/html": [
       "<div>\n",
       "<style scoped>\n",
       "    .dataframe tbody tr th:only-of-type {\n",
       "        vertical-align: middle;\n",
       "    }\n",
       "\n",
       "    .dataframe tbody tr th {\n",
       "        vertical-align: top;\n",
       "    }\n",
       "\n",
       "    .dataframe thead th {\n",
       "        text-align: right;\n",
       "    }\n",
       "</style>\n",
       "<table border=\"1\" class=\"dataframe\">\n",
       "  <thead>\n",
       "    <tr style=\"text-align: right;\">\n",
       "      <th></th>\n",
       "      <th>year</th>\n",
       "      <th>km_driven</th>\n",
       "      <th>mileage</th>\n",
       "      <th>engine</th>\n",
       "      <th>max_power</th>\n",
       "      <th>fuel_Diesel</th>\n",
       "      <th>fuel_LPG</th>\n",
       "      <th>fuel_Petrol</th>\n",
       "      <th>seller_type_Individual</th>\n",
       "      <th>seller_type_Trustmark Dealer</th>\n",
       "      <th>...</th>\n",
       "      <th>owner_Test Drive Car</th>\n",
       "      <th>owner_Third Owner</th>\n",
       "      <th>seats_4</th>\n",
       "      <th>seats_5</th>\n",
       "      <th>seats_6</th>\n",
       "      <th>seats_7</th>\n",
       "      <th>seats_8</th>\n",
       "      <th>seats_9</th>\n",
       "      <th>seats_10</th>\n",
       "      <th>seats_14</th>\n",
       "    </tr>\n",
       "  </thead>\n",
       "  <tbody>\n",
       "    <tr>\n",
       "      <th>0</th>\n",
       "      <td>-0.837167</td>\n",
       "      <td>1.56574</td>\n",
       "      <td>-1.363089</td>\n",
       "      <td>2.200379</td>\n",
       "      <td>0.755783</td>\n",
       "      <td>1</td>\n",
       "      <td>0</td>\n",
       "      <td>0</td>\n",
       "      <td>1</td>\n",
       "      <td>0</td>\n",
       "      <td>...</td>\n",
       "      <td>0</td>\n",
       "      <td>0</td>\n",
       "      <td>0</td>\n",
       "      <td>1</td>\n",
       "      <td>0</td>\n",
       "      <td>0</td>\n",
       "      <td>0</td>\n",
       "      <td>0</td>\n",
       "      <td>0</td>\n",
       "      <td>0</td>\n",
       "    </tr>\n",
       "  </tbody>\n",
       "</table>\n",
       "<p>1 rows × 23 columns</p>\n",
       "</div>"
      ],
      "text/plain": [
       "       year  km_driven   mileage    engine  max_power  fuel_Diesel  fuel_LPG  \\\n",
       "0 -0.837167    1.56574 -1.363089  2.200379   0.755783            1         0   \n",
       "\n",
       "   fuel_Petrol  seller_type_Individual  seller_type_Trustmark Dealer  ...  \\\n",
       "0            0                       1                             0  ...   \n",
       "\n",
       "   owner_Test Drive Car  owner_Third Owner  seats_4  seats_5  seats_6  \\\n",
       "0                     0                  0        0        1        0   \n",
       "\n",
       "   seats_7  seats_8  seats_9  seats_10  seats_14  \n",
       "0        0        0        0         0         0  \n",
       "\n",
       "[1 rows x 23 columns]"
      ]
     },
     "execution_count": 76,
     "metadata": {},
     "output_type": "execute_result"
    }
   ],
   "source": [
    "X_test_cat.head(1)"
   ]
  },
  {
   "cell_type": "markdown",
   "metadata": {
    "id": "b8fI5dQT-Fvx"
   },
   "source": [
    "(0.25 балла) <font color='#9933CC'>Переберите параметр регуляризации `alpha` для гребневой (ridge) регрессии с помощью класса `GridSearchCV`.</font> В качестве параметров при объявлении GridSearchCV кроме модели укажите метрику качества $R^2$. Кроссвалидируйтесь по 10-ти фолдам.\n",
    "\n",
    "<font color='#FF6600'>Удалось ли улучшить качество предсказаний?</font>"
   ]
  },
  {
   "cell_type": "code",
   "execution_count": 77,
   "metadata": {
    "id": "SLXCtme53Oup"
   },
   "outputs": [
    {
     "data": {
      "text/plain": [
       "{'alpha': 7.777777777777778}"
      ]
     },
     "execution_count": 77,
     "metadata": {},
     "output_type": "execute_result"
    }
   ],
   "source": [
    "from sklearn.linear_model import Ridge\n",
    "from sklearn.model_selection import GridSearchCV\n",
    "\n",
    "model9 = Ridge()\n",
    "parameters = {'alpha': np.linspace(5, 10, 100)}\n",
    "\n",
    "grid = GridSearchCV(model9, parameters, scoring='r2', cv=10)\n",
    "grid.fit(X_train_cat, y_train)\n",
    "grid.best_params_"
   ]
  },
  {
   "cell_type": "code",
   "execution_count": 78,
   "metadata": {},
   "outputs": [
    {
     "name": "stdout",
     "output_type": "stream",
     "text": [
      "MSE train: 98559220802.12648\n",
      "MSE test: 210076845830.15775\n",
      "R2 train: 0.6561547859691089\n",
      "R2 test: 0.6345399967180965\n"
     ]
    }
   ],
   "source": [
    "pred_train = grid.predict(X_train_cat)\n",
    "pred_test = grid.predict(X_test_cat)\n",
    "print('MSE train: {}'.format(MSE(y_train, pred_train)))\n",
    "print('MSE test: {}'.format(MSE(y_test, pred_test)))\n",
    "print('R2 train: {}'.format(r2_score(y_train, pred_train)))\n",
    "print('R2 test: {}'.format(r2_score(y_test, pred_test)))"
   ]
  },
  {
   "cell_type": "markdown",
   "metadata": {},
   "source": [
    "Да, качество удалось улучшить. MSE уменьшилась, а R^2 возрасло примерно на 0.1 и на трейн, и на тест датасете."
   ]
  },
  {
   "cell_type": "markdown",
   "metadata": {
    "id": "T0OlrsmArp2I"
   },
   "source": [
    "# Часть 4 - бонусная (1.5 балла) | Feature Engineering "
   ]
  },
  {
   "cell_type": "markdown",
   "metadata": {
    "id": "NXo9jvHPEYtN"
   },
   "source": [
    "В этой части домашнего задания вам предлагается проявить свою креативность для улучшения прогноза модели. Любые другие модели, кроме различных форм линейной (или полиномиальной) регресси, использовать запрещается. А значит, придется работать с признаками\n",
    "\n",
    "**Что можно попробовать сделать?** (каждый пункт по 0.4 балла, но не больше 2-х баллов в сумме)\n",
    "\n",
    "1.   *Сгенерировать новые признаки на основе уже существующих:*\n",
    "    * посчитать произведения // частные признаков (кажется, что посчитать число \"лошадей\" на литр объема может быть полезно);\n",
    "    * имеет смысл обратить внимание на визуализации в части с EDA (к примеру, зависимость цены от года выглядит квадратичной, а не линейной; значит, квадрат года нам, скорее всего, принесет больше пользы)\n",
    "\n",
    "2.   *Добыть новые признаки:*\n",
    "    * имеем название автомобиля, которое никак не используем (можно спарсить инфу о классе автомобиля или каких-то специфических опциях)\n",
    "    * можно добавить пороговые признаки вроде \"владелец третий или больше\" и объединить признаки в некоторые осмысленные правила, например \"первый или второй владелец и продавец официальный дилер\" (подбирать пороги удобно по диаграммам рассеяния)\n",
    "\n",
    "3.   *Поработать с уже имеющимися:*\n",
    "    * далеко не факт, что заполнить пропуск медианой было лучшей идеей (как минимум, можно добавить dummy-столбец для модели, сигнализирующий, что раньше на месте медианы был пропуск -- там где он был, конечно); попробуйте другие способы филлинга;\n",
    "    * мы не анализировали, есть ли в данных выбросы => никак выбросы не обрабатывали; наиболее простым и, тем не менее, довольно полезным вариантом нахождения выбросов могут послужить boxplot'ы для каждого столбца; что делать с выбросами думайте сами :) -- вариантов довольно много\n",
    "    * мы толком не смотрели на таргет сам по себе; в нем тоже могут быть неожиданности -- стоит хотя бы проверить\n",
    "    * можно заметить, что некоторые признаки распределены совсем не нормально; возможно их стоит отлогарифмировать\n",
    "\n",
    "И так далее...\n",
    "\n",
    "Feel Free to Try!"
   ]
  },
  {
   "cell_type": "markdown",
   "metadata": {},
   "source": [
    "Попробуем убрать признак max_power, который больше всех коррелирует с признаком engine и целевой переменной."
   ]
  },
  {
   "cell_type": "code",
   "execution_count": 79,
   "metadata": {},
   "outputs": [],
   "source": [
    "X_train_cat1 = X_train_cat.drop(['max_power'], axis=1)\n",
    "X_test_cat1 = X_test_cat.drop(['max_power'], axis=1)"
   ]
  },
  {
   "cell_type": "code",
   "execution_count": 80,
   "metadata": {},
   "outputs": [
    {
     "data": {
      "text/plain": [
       "{'alpha': 8.282828282828284}"
      ]
     },
     "execution_count": 80,
     "metadata": {},
     "output_type": "execute_result"
    }
   ],
   "source": [
    "model10 = Ridge()\n",
    "parameters = {'alpha': np.linspace(5, 10, 100)}\n",
    "\n",
    "grid = GridSearchCV(model10, parameters, scoring='r2', cv=10)\n",
    "grid.fit(X_train_cat1, y_train)\n",
    "grid.best_params_"
   ]
  },
  {
   "cell_type": "code",
   "execution_count": 81,
   "metadata": {},
   "outputs": [
    {
     "name": "stdout",
     "output_type": "stream",
     "text": [
      "MSE train: 128529674468.08417\n",
      "MSE test: 278237911122.83374\n",
      "R2 train: 0.551596359355089\n",
      "R2 test: 0.5159636583923646\n"
     ]
    }
   ],
   "source": [
    "pred_train = grid.predict(X_train_cat1)\n",
    "pred_test = grid.predict(X_test_cat1)\n",
    "print('MSE train: {}'.format(MSE(y_train, pred_train)))\n",
    "print('MSE test: {}'.format(MSE(y_test, pred_test)))\n",
    "print('R2 train: {}'.format(r2_score(y_train, pred_train)))\n",
    "print('R2 test: {}'.format(r2_score(y_test, pred_test)))"
   ]
  },
  {
   "cell_type": "markdown",
   "metadata": {},
   "source": [
    "Метрики ухудшились."
   ]
  },
  {
   "cell_type": "markdown",
   "metadata": {},
   "source": [
    "Попробуем добавить квадрат года."
   ]
  },
  {
   "cell_type": "code",
   "execution_count": 85,
   "metadata": {},
   "outputs": [],
   "source": [
    "X_train_cat2 = X_train_cat.copy(deep=True)\n",
    "X_train_cat2.insert(23, 'year^2', X_train_cat2['year'].apply(lambda x: x**2))"
   ]
  },
  {
   "cell_type": "code",
   "execution_count": 86,
   "metadata": {},
   "outputs": [
    {
     "data": {
      "text/html": [
       "<div>\n",
       "<style scoped>\n",
       "    .dataframe tbody tr th:only-of-type {\n",
       "        vertical-align: middle;\n",
       "    }\n",
       "\n",
       "    .dataframe tbody tr th {\n",
       "        vertical-align: top;\n",
       "    }\n",
       "\n",
       "    .dataframe thead th {\n",
       "        text-align: right;\n",
       "    }\n",
       "</style>\n",
       "<table border=\"1\" class=\"dataframe\">\n",
       "  <thead>\n",
       "    <tr style=\"text-align: right;\">\n",
       "      <th></th>\n",
       "      <th>year</th>\n",
       "      <th>km_driven</th>\n",
       "      <th>mileage</th>\n",
       "      <th>engine</th>\n",
       "      <th>max_power</th>\n",
       "      <th>fuel_Diesel</th>\n",
       "      <th>fuel_LPG</th>\n",
       "      <th>fuel_Petrol</th>\n",
       "      <th>seller_type_Individual</th>\n",
       "      <th>seller_type_Trustmark Dealer</th>\n",
       "      <th>...</th>\n",
       "      <th>owner_Third Owner</th>\n",
       "      <th>seats_4</th>\n",
       "      <th>seats_5</th>\n",
       "      <th>seats_6</th>\n",
       "      <th>seats_7</th>\n",
       "      <th>seats_8</th>\n",
       "      <th>seats_9</th>\n",
       "      <th>seats_10</th>\n",
       "      <th>seats_14</th>\n",
       "      <th>year^2</th>\n",
       "    </tr>\n",
       "  </thead>\n",
       "  <tbody>\n",
       "    <tr>\n",
       "      <th>0</th>\n",
       "      <td>0.13957</td>\n",
       "      <td>1.191152</td>\n",
       "      <td>0.995391</td>\n",
       "      <td>-0.373643</td>\n",
       "      <td>-0.44603</td>\n",
       "      <td>1</td>\n",
       "      <td>0</td>\n",
       "      <td>0</td>\n",
       "      <td>1</td>\n",
       "      <td>0</td>\n",
       "      <td>...</td>\n",
       "      <td>0</td>\n",
       "      <td>0</td>\n",
       "      <td>1</td>\n",
       "      <td>0</td>\n",
       "      <td>0</td>\n",
       "      <td>0</td>\n",
       "      <td>0</td>\n",
       "      <td>0</td>\n",
       "      <td>0</td>\n",
       "      <td>0.01948</td>\n",
       "    </tr>\n",
       "  </tbody>\n",
       "</table>\n",
       "<p>1 rows × 24 columns</p>\n",
       "</div>"
      ],
      "text/plain": [
       "      year  km_driven   mileage    engine  max_power  fuel_Diesel  fuel_LPG  \\\n",
       "0  0.13957   1.191152  0.995391 -0.373643   -0.44603            1         0   \n",
       "\n",
       "   fuel_Petrol  seller_type_Individual  seller_type_Trustmark Dealer  ...  \\\n",
       "0            0                       1                             0  ...   \n",
       "\n",
       "   owner_Third Owner  seats_4  seats_5  seats_6  seats_7  seats_8  seats_9  \\\n",
       "0                  0        0        1        0        0        0        0   \n",
       "\n",
       "   seats_10  seats_14   year^2  \n",
       "0         0         0  0.01948  \n",
       "\n",
       "[1 rows x 24 columns]"
      ]
     },
     "execution_count": 86,
     "metadata": {},
     "output_type": "execute_result"
    }
   ],
   "source": [
    "X_train_cat2.head(1)"
   ]
  },
  {
   "cell_type": "code",
   "execution_count": 87,
   "metadata": {},
   "outputs": [],
   "source": [
    "X_test_cat2 = X_test_cat.copy(deep=True)\n",
    "X_test_cat2.insert(23, 'year^2', X_test_cat2['year'].apply(lambda x: x**2))"
   ]
  },
  {
   "cell_type": "code",
   "execution_count": 88,
   "metadata": {},
   "outputs": [
    {
     "data": {
      "text/html": [
       "<div>\n",
       "<style scoped>\n",
       "    .dataframe tbody tr th:only-of-type {\n",
       "        vertical-align: middle;\n",
       "    }\n",
       "\n",
       "    .dataframe tbody tr th {\n",
       "        vertical-align: top;\n",
       "    }\n",
       "\n",
       "    .dataframe thead th {\n",
       "        text-align: right;\n",
       "    }\n",
       "</style>\n",
       "<table border=\"1\" class=\"dataframe\">\n",
       "  <thead>\n",
       "    <tr style=\"text-align: right;\">\n",
       "      <th></th>\n",
       "      <th>year</th>\n",
       "      <th>km_driven</th>\n",
       "      <th>mileage</th>\n",
       "      <th>engine</th>\n",
       "      <th>max_power</th>\n",
       "      <th>fuel_Diesel</th>\n",
       "      <th>fuel_LPG</th>\n",
       "      <th>fuel_Petrol</th>\n",
       "      <th>seller_type_Individual</th>\n",
       "      <th>seller_type_Trustmark Dealer</th>\n",
       "      <th>...</th>\n",
       "      <th>owner_Third Owner</th>\n",
       "      <th>seats_4</th>\n",
       "      <th>seats_5</th>\n",
       "      <th>seats_6</th>\n",
       "      <th>seats_7</th>\n",
       "      <th>seats_8</th>\n",
       "      <th>seats_9</th>\n",
       "      <th>seats_10</th>\n",
       "      <th>seats_14</th>\n",
       "      <th>year^2</th>\n",
       "    </tr>\n",
       "  </thead>\n",
       "  <tbody>\n",
       "    <tr>\n",
       "      <th>0</th>\n",
       "      <td>-0.837167</td>\n",
       "      <td>1.56574</td>\n",
       "      <td>-1.363089</td>\n",
       "      <td>2.200379</td>\n",
       "      <td>0.755783</td>\n",
       "      <td>1</td>\n",
       "      <td>0</td>\n",
       "      <td>0</td>\n",
       "      <td>1</td>\n",
       "      <td>0</td>\n",
       "      <td>...</td>\n",
       "      <td>0</td>\n",
       "      <td>0</td>\n",
       "      <td>1</td>\n",
       "      <td>0</td>\n",
       "      <td>0</td>\n",
       "      <td>0</td>\n",
       "      <td>0</td>\n",
       "      <td>0</td>\n",
       "      <td>0</td>\n",
       "      <td>0.700848</td>\n",
       "    </tr>\n",
       "  </tbody>\n",
       "</table>\n",
       "<p>1 rows × 24 columns</p>\n",
       "</div>"
      ],
      "text/plain": [
       "       year  km_driven   mileage    engine  max_power  fuel_Diesel  fuel_LPG  \\\n",
       "0 -0.837167    1.56574 -1.363089  2.200379   0.755783            1         0   \n",
       "\n",
       "   fuel_Petrol  seller_type_Individual  seller_type_Trustmark Dealer  ...  \\\n",
       "0            0                       1                             0  ...   \n",
       "\n",
       "   owner_Third Owner  seats_4  seats_5  seats_6  seats_7  seats_8  seats_9  \\\n",
       "0                  0        0        1        0        0        0        0   \n",
       "\n",
       "   seats_10  seats_14    year^2  \n",
       "0         0         0  0.700848  \n",
       "\n",
       "[1 rows x 24 columns]"
      ]
     },
     "execution_count": 88,
     "metadata": {},
     "output_type": "execute_result"
    }
   ],
   "source": [
    "X_test_cat2.head(1)"
   ]
  },
  {
   "cell_type": "code",
   "execution_count": 92,
   "metadata": {},
   "outputs": [
    {
     "data": {
      "text/plain": [
       "{'alpha': 9.795918367346939}"
      ]
     },
     "execution_count": 92,
     "metadata": {},
     "output_type": "execute_result"
    }
   ],
   "source": [
    "model11 = Ridge()\n",
    "parameters = {'alpha': np.linspace(0, 10, 50)}\n",
    "\n",
    "grid = GridSearchCV(model11, parameters, scoring='r2', cv=10)\n",
    "grid.fit(X_train_cat2, y_train)\n",
    "grid.best_params_"
   ]
  },
  {
   "cell_type": "code",
   "execution_count": 93,
   "metadata": {},
   "outputs": [
    {
     "name": "stdout",
     "output_type": "stream",
     "text": [
      "MSE train: 95333827129.80496\n",
      "MSE test: 200898084681.98807\n",
      "R2 train: 0.6674072712116601\n",
      "R2 test: 0.6505078206164328\n"
     ]
    }
   ],
   "source": [
    "pred_train = grid.predict(X_train_cat2)\n",
    "pred_test = grid.predict(X_test_cat2)\n",
    "print('MSE train: {}'.format(MSE(y_train, pred_train)))\n",
    "print('MSE test: {}'.format(MSE(y_test, pred_test)))\n",
    "print('R2 train: {}'.format(r2_score(y_train, pred_train)))\n",
    "print('R2 test: {}'.format(r2_score(y_test, pred_test)))"
   ]
  },
  {
   "cell_type": "markdown",
   "metadata": {},
   "source": [
    "### Удалось немного увеличить R2, это радует))"
   ]
  },
  {
   "cell_type": "markdown",
   "metadata": {},
   "source": [
    "Попробуем убрать выбросы - к примеру, число объектов, у которых признак seats принимает значения 10 и 14 мало по сравнению с величиной всей выборки."
   ]
  },
  {
   "cell_type": "code",
   "execution_count": 102,
   "metadata": {},
   "outputs": [],
   "source": [
    "X_train_cat3 = X_train_cat2.drop(['seats_10', 'seats_14'], axis=1)\n",
    "X_test_cat3 = X_test_cat2.drop(['seats_10', 'seats_14'], axis=1)"
   ]
  },
  {
   "cell_type": "code",
   "execution_count": 103,
   "metadata": {},
   "outputs": [
    {
     "data": {
      "text/plain": [
       "{'alpha': 9.795918367346939}"
      ]
     },
     "execution_count": 103,
     "metadata": {},
     "output_type": "execute_result"
    }
   ],
   "source": [
    "model12 = Ridge()\n",
    "parameters = {'alpha': np.linspace(0, 10, 50)}\n",
    "\n",
    "grid = GridSearchCV(model12, parameters, scoring='r2', cv=10)\n",
    "grid.fit(X_train_cat3, y_train)\n",
    "grid.best_params_"
   ]
  },
  {
   "cell_type": "code",
   "execution_count": 104,
   "metadata": {},
   "outputs": [
    {
     "name": "stdout",
     "output_type": "stream",
     "text": [
      "MSE train: 95336874564.20766\n",
      "MSE test: 200892184016.09326\n",
      "R2 train: 0.6673966395759197\n",
      "R2 test: 0.6505180857047568\n"
     ]
    }
   ],
   "source": [
    "pred_train = grid.predict(X_train_cat3)\n",
    "pred_test = grid.predict(X_test_cat3)\n",
    "print('MSE train: {}'.format(MSE(y_train, pred_train)))\n",
    "print('MSE test: {}'.format(MSE(y_test, pred_test)))\n",
    "print('R2 train: {}'.format(r2_score(y_train, pred_train)))\n",
    "print('R2 test: {}'.format(r2_score(y_test, pred_test)))"
   ]
  },
  {
   "cell_type": "markdown",
   "metadata": {},
   "source": [
    "R2 на тесте увеличилось на 1 в пятом знаке после десятичного разделителя."
   ]
  },
  {
   "cell_type": "markdown",
   "metadata": {
    "id": "mw6LOYJTL2x1"
   },
   "source": [
    "# Часть Бизнесовая (0.5 балла)"
   ]
  },
  {
   "cell_type": "markdown",
   "metadata": {
    "id": "0QpHAfbcMRfu"
   },
   "source": [
    "Заказчик просил вас посчитать кастомную метрику -- среди всех предсказанных цен на авто посчитать долю предиктов, отличающихся от реальных цен на эти авто не более чем на 10% (в одну или другую сторону)\n",
    "\n",
    "<font color='#9933CC'>Сделайте это самостоятельно для лучшей из своих моделей</font>"
   ]
  },
  {
   "cell_type": "code",
   "execution_count": 94,
   "metadata": {
    "id": "YrcaGhO7MnMR"
   },
   "outputs": [],
   "source": [
    "def business_metrics(y_true, y_pred):\n",
    "    \n",
    "    assert len(y_true) == len(y_pred)\n",
    "    \n",
    "    good_predicts = 0\n",
    "    total_amount = len(y_true)\n",
    "    \n",
    "    for i in range(len(y_true)):\n",
    "        if y_pred[i] < 1.1 * y_true[i] and y_pred[i] > 0.9 * y_true[i]:\n",
    "            good_predicts += 1\n",
    "    \n",
    "    return round(good_predicts / total_amount, 2)"
   ]
  },
  {
   "cell_type": "code",
   "execution_count": 107,
   "metadata": {},
   "outputs": [],
   "source": [
    "# лучшая модель\n",
    "best_model = Ridge(alpha=9.7959)\n",
    "best_model.fit(X_train_cat3, y_train)\n",
    "\n",
    "pred_train = best_model.predict(X_train_cat3)\n",
    "pred_test = best_model.predict(X_test_cat3)"
   ]
  },
  {
   "cell_type": "code",
   "execution_count": 108,
   "metadata": {},
   "outputs": [
    {
     "name": "stdout",
     "output_type": "stream",
     "text": [
      "Business metrics for train: 0.2\n",
      "Business metrics for test: 0.22\n"
     ]
    }
   ],
   "source": [
    "print('Business metrics for train: {}'.format(business_metrics(y_train, pred_train)))\n",
    "print('Business metrics for test: {}'.format(business_metrics(y_test, pred_test)))"
   ]
  },
  {
   "cell_type": "code",
   "execution_count": 109,
   "metadata": {},
   "outputs": [],
   "source": [
    "import pickle\n",
    "\n",
    "\n",
    "with open('model.pickle', 'wb') as f:\n",
    "    pickle.dump(best_model, f)"
   ]
  },
  {
   "cell_type": "markdown",
   "metadata": {
    "id": "ARi0hYPrsI4x"
   },
   "source": [
    "# Часть 5 (2.5 балла) | Реализация сервиса на FastAPI"
   ]
  },
  {
   "cell_type": "markdown",
   "metadata": {
    "id": "03rHiCmGKGU8"
   },
   "source": [
    "Cделайте с помощью FastAPI сервис, который с точки зрения пользователя реализует две функции:\n",
    "\n",
    "1. на вход в формате json подаются признаки одного объекта, на выходе сервис выдает предсказанную стоимость машины\n",
    "2. на вход подается csv-файл с признаками тестовых объектов, на выходе получаем файл с +1 столбцом - предсказаниями на этих объектах\n",
    "\n",
    "С точки зрения реализации это означает следующее:\n",
    "- средствами pydantic должен быть описан класс базового объекта\n",
    "- класс с коллецией объектов\n",
    "- метод post, который получает на вход один объект описанного класса\n",
    "- метод post, который получает на вход коллекцию объектов описанного класса\n",
    "\n",
    "Шаблон для сервисной части дан ниже. Код необходимо дополнить и оформить в виде отдельного .py-файла."
   ]
  },
  {
   "cell_type": "code",
   "execution_count": null,
   "metadata": {
    "id": "6Qq8zyxNsYC3"
   },
   "outputs": [],
   "source": [
    "from fastapi import FastAPI\n",
    "from pydantic import BaseModel\n",
    "from typing import List\n",
    "\n",
    "app = FastAPI()\n",
    "\n",
    "\n",
    "class Item(BaseModel):\n",
    "    name: str\n",
    "    year: int\n",
    "    selling_price: int\n",
    "    km_driven: int\n",
    "    fuel: str\n",
    "    seller_type: str\n",
    "    transmission: str\n",
    "    owner: str\n",
    "    mileage: str \n",
    "    engine: str\n",
    "    max_power: str\n",
    "    torque: str\n",
    "    seats: float\n",
    "\n",
    "\n",
    "class Items(BaseModel):\n",
    "    objects: List[Item]\n",
    "\n",
    "\n",
    "@app.post(\"/predict_item\")\n",
    "def predict_item(item: Item) -> float:\n",
    "    return ...\n",
    "\n",
    "\n",
    "@app.post(\"/predict_items\")\n",
    "def predict_items(items: List[Item]) -> List[float]:\n",
    "    return ..."
   ]
  },
  {
   "cell_type": "markdown",
   "metadata": {
    "id": "3U29qIjog18v"
   },
   "source": [
    "Протестируйте сервис на корректность работы и приложите скриншоты (см. ниже)."
   ]
  },
  {
   "cell_type": "markdown",
   "metadata": {
    "id": "V4fq_10xsaHg"
   },
   "source": [
    "# Часть 6 (1 балл) | Оформление результатов"
   ]
  },
  {
   "cell_type": "markdown",
   "metadata": {
    "id": "nmwf-ZrEKZy6"
   },
   "source": [
    "**Результаты вашей работы** необходимо разместить в своем Гитхабе. Под результатами понимаем следующее:\n",
    "* ``.ipynb``-ноутбук со всеми проведёнными вами экспериментами (output'ы ячеек, разумеется, сохранить)\n",
    "* ``.py``-файл с реализацией сервиса\n",
    "* ``.pickle``-файл с сохранёнными весами модели, коэффициентами скейлинга и прочими числовыми значениями, которые могут понадобиться для инференса\n",
    "* ``.md``-файл с выводами про проделанной вами работе:\n",
    "    * что было сделано\n",
    "    * с какими результатами\n",
    "    * что дало наибольший буст в качестве\n",
    "    * что сделать не вышло и почему (это нормально, даже хорошо😀)\n",
    "\n",
    "**За что могут быть сняты баллы в этом пункте:**\n",
    "* за отсутствие ``.pickle``-файла с весами использованной модели\n",
    "* за недостаточную аналитику в ``.md``-файле\n",
    "* за оформление и логику кода (в определённом смысле это тоже элемент оформления решения)\n",
    "\n",
    "**Как будет выглядет проверка всего домашнего задания?**\n",
    "1. Ассистент проходит по ссылке на (**открытый**) репозиторий из Энитаска\n",
    "2. Смотрит ``readme.md``:\n",
    "    * пожалуйста, приложите в него же скрины работы вашего сервиса -- собирать ваши проекты довольно времязатратно, но хочется убедиться, что всё работает\n",
    "    * можете прислать screencast в ТГ\n",
    "3. Просматривает ноутбук с pure-DS частью\n",
    "4. Заглядывает в код сервиса\n",
    "5. Хвалит"
   ]
  },
  {
   "cell_type": "markdown",
   "metadata": {
    "id": "QSIEzw6sN8Zp"
   },
   "source": [
    "# Часть Благодарственная"
   ]
  },
  {
   "cell_type": "markdown",
   "metadata": {
    "id": "lWOSqmLWOAr-"
   },
   "source": [
    "Надеемся, вы честно проделали все пункты, а не просто пролистали досюда. Потому что здесь награда за старания. Пожалуйста, не стоит награждать себя до того, как закончите работать над домашкой.\n",
    "\n",
    "https://drive.google.com/file/d/1LT06nyg9QgVi3r-D5BY-_mQ9TcJQFxJN/view?usp=share_link"
   ]
  },
  {
   "cell_type": "code",
   "execution_count": null,
   "metadata": {
    "id": "PJnbprP8QGLx"
   },
   "outputs": [],
   "source": []
  }
 ],
 "metadata": {
  "colab": {
   "provenance": []
  },
  "kernelspec": {
   "display_name": "Python 3 (ipykernel)",
   "language": "python",
   "name": "python3"
  },
  "language_info": {
   "codemirror_mode": {
    "name": "ipython",
    "version": 3
   },
   "file_extension": ".py",
   "mimetype": "text/x-python",
   "name": "python",
   "nbconvert_exporter": "python",
   "pygments_lexer": "ipython3",
   "version": "3.9.7"
  }
 },
 "nbformat": 4,
 "nbformat_minor": 1
}
